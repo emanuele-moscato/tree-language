{
 "cells": [
  {
   "cell_type": "markdown",
   "id": "02d352cd-0457-466b-afd4-4b8f3a93441c",
   "metadata": {},
   "source": [
    "# Sequence masking with PyTorch"
   ]
  },
  {
   "cell_type": "markdown",
   "id": "06e9cd66-e2d3-4444-936c-1d4a925b7308",
   "metadata": {},
   "source": [
    "Resources:\n",
    "- Masking:\n",
    "    - [Difference between `src_mask` and `src_key_padding_mask` in PyTorch Transformer layers (from StackOverflow)](https://stackoverflow.com/questions/62170439/difference-between-src-mask-and-src-key-padding-mask)\n",
    "    - [UvA (University of Amsterdam) DL tutorial](https://uvadlc-notebooks.readthedocs.io/en/latest/tutorial_notebooks/tutorial6/Transformers_and_MHAttention.html)\n",
    "    - [Judit Ács' blog post](https://juditacs.github.io/2018/12/27/masked-attention.html) (but watch out: **the attention matrix is not square!**)\n",
    "- Masked language modeling:\n",
    "    - [Kaggle notebook](https://www.kaggle.com/code/mojammel/masked-language-model-with-pytorch-transformer) (very similar to the PyTorch tutorial below)\n",
    "    - [MLM with BERT blog post](https://towardsdatascience.com/masked-language-modelling-with-bert-7d49793e5d2c)\n",
    "    - [PyTorch transformer tutorial](https://pytorch.org/tutorials/beginner/transformer_tutorial.html)\n",
    "    - [Tutorial with TensorFlow](https://keras.io/examples/nlp/masked_language_modeling/#create-bert-model-pretraining-model-for-masked-language-modeling) (this is actually a good reference, with tensor shapes etc.)\n",
    "    - [Tutorial with PyTorch](https://neptune.ai/blog/how-to-code-bert-using-pytorch-tutorial)"
   ]
  },
  {
   "cell_type": "code",
   "execution_count": 2,
   "id": "08e824b3-b56e-44bc-9526-c2783ab57d67",
   "metadata": {},
   "outputs": [
    {
     "name": "stdout",
     "output_type": "stream",
     "text": [
      "The autoreload extension is already loaded. To reload it, use:\n",
      "  %reload_ext autoreload\n"
     ]
    }
   ],
   "source": [
    "import sys\n",
    "import torch\n",
    "\n",
    "sys.path.append('../../modules/')\n",
    "\n",
    "from models import TransformerClassifier, FFNN\n",
    "\n",
    "%load_ext autoreload\n",
    "%autoreload 2"
   ]
  },
  {
   "cell_type": "markdown",
   "id": "4633f1af-489a-4ebd-9629-c831ba2bb80d",
   "metadata": {},
   "source": [
    "## Data"
   ]
  },
  {
   "cell_type": "markdown",
   "id": "85becff7-d2a7-4e09-9a43-a5edc4f369fb",
   "metadata": {},
   "source": [
    "Generate a vocabulary."
   ]
  },
  {
   "cell_type": "code",
   "execution_count": 3,
   "id": "384a18d5-80da-4d90-af0e-be65054e2153",
   "metadata": {},
   "outputs": [
    {
     "data": {
      "text/plain": [
       "tensor([0, 1, 2, 3, 4, 5, 6, 7, 8])"
      ]
     },
     "execution_count": 3,
     "metadata": {},
     "output_type": "execute_result"
    }
   ],
   "source": [
    "# Vocabulary size.\n",
    "q = 8\n",
    "\n",
    "vocab = torch.arange(q).to(dtype=torch.int64)\n",
    "mask_idx = vocab.max() + 1\n",
    "\n",
    "# Enalarge the vocabulary with the special tokens.\n",
    "vocab = torch.hstack([vocab, torch.Tensor(mask_idx).to(dtype=torch.int64)])\n",
    "\n",
    "vocab"
   ]
  },
  {
   "cell_type": "markdown",
   "id": "c8dda572-0edb-4477-b2a3-afd15c4c24dd",
   "metadata": {},
   "source": [
    "Generate sequences of tokens.\n",
    "\n",
    "**Note:** in the case considered all sequences have the same length and therefore no padding is (ever) needed."
   ]
  },
  {
   "cell_type": "code",
   "execution_count": 4,
   "id": "e3d287ab-557c-4871-9321-4d685c4e1ecb",
   "metadata": {},
   "outputs": [
    {
     "data": {
      "text/plain": [
       "tensor([[1, 7, 0,  ..., 1, 5, 2],\n",
       "        [0, 2, 1,  ..., 5, 2, 4],\n",
       "        [6, 4, 6,  ..., 2, 3, 7],\n",
       "        ...,\n",
       "        [7, 3, 7,  ..., 2, 7, 5],\n",
       "        [6, 3, 2,  ..., 0, 4, 4],\n",
       "        [2, 7, 7,  ..., 3, 7, 1]])"
      ]
     },
     "execution_count": 4,
     "metadata": {},
     "output_type": "execute_result"
    }
   ],
   "source": [
    "# Tree depth.\n",
    "l = 8\n",
    "\n",
    "batch_size = 64\n",
    "seq_len = 2 ** l\n",
    "\n",
    "sequences = torch.randint(q, (batch_size, seq_len))\n",
    "\n",
    "sequences"
   ]
  },
  {
   "cell_type": "code",
   "execution_count": 6,
   "id": "2e85ada8-bfb0-47bd-aa51-d821b5e8ab0d",
   "metadata": {},
   "outputs": [
    {
     "data": {
      "text/plain": [
       "torch.int64"
      ]
     },
     "execution_count": 6,
     "metadata": {},
     "output_type": "execute_result"
    }
   ],
   "source": [
    "sequences.dtype"
   ]
  },
  {
   "cell_type": "markdown",
   "id": "50e81a39-dab6-4e54-8254-4370a04bd57e",
   "metadata": {},
   "source": [
    "## Building attention masks"
   ]
  },
  {
   "cell_type": "markdown",
   "id": "3dbf0836-fc11-4fe7-9ae2-3ae130f09a0d",
   "metadata": {},
   "source": [
    "Given the sequences, generate trainable input embeddings for them (just the semantic part, we're skipping the positional encoding here as it's not essential)."
   ]
  },
  {
   "cell_type": "code",
   "execution_count": 4,
   "id": "4c52ad3b-0c25-45fa-a49d-f77e6128a4f6",
   "metadata": {},
   "outputs": [
    {
     "data": {
      "text/plain": [
       "torch.Size([64, 256, 128])"
      ]
     },
     "execution_count": 4,
     "metadata": {},
     "output_type": "execute_result"
    }
   ],
   "source": [
    "hidden_dim = 128\n",
    "\n",
    "embedding_layer = torch.nn.Embedding(\n",
    "    num_embeddings=vocab.shape[0],\n",
    "    embedding_dim=hidden_dim\n",
    ")\n",
    "\n",
    "input_sequence_embeddings = embedding_layer(sequences)\n",
    "\n",
    "input_sequence_embeddings.shape"
   ]
  },
  {
   "cell_type": "markdown",
   "id": "6da40c2f-c5f2-4159-8924-19085176008e",
   "metadata": {},
   "source": [
    "Instantiate a transformer Encoder model.\n",
    "\n",
    "**Note:** by convention, we stick with having the batch dimension as the first one."
   ]
  },
  {
   "cell_type": "code",
   "execution_count": 5,
   "id": "86de4d21-a971-44bb-9b2a-8333da8b72d0",
   "metadata": {},
   "outputs": [
    {
     "name": "stderr",
     "output_type": "stream",
     "text": [
      "/home/moscato/miniconda3/envs/tree-language/lib/python3.10/site-packages/torch/nn/modules/transformer.py:286: UserWarning: enable_nested_tensor is True, but self.use_nested_tensor is False because encoder_layer.self_attn.num_heads is odd\n",
      "  warnings.warn(f\"enable_nested_tensor is True, but self.use_nested_tensor is False because {why_not_sparsity_fast_path}\")\n"
     ]
    },
    {
     "data": {
      "text/plain": [
       "torch.Size([64, 256, 128])"
      ]
     },
     "execution_count": 5,
     "metadata": {},
     "output_type": "execute_result"
    }
   ],
   "source": [
    "# A single encoder layer to be used in the full stack.\n",
    "encoder_layer = torch.nn.TransformerEncoderLayer(\n",
    "    d_model=hidden_dim,\n",
    "    nhead=1,\n",
    "    dim_feedforward=2 * hidden_dim,\n",
    "    batch_first=True\n",
    ")\n",
    "\n",
    "# Stack of encoder layers.\n",
    "transformer_encoder = torch.nn.TransformerEncoder(\n",
    "    encoder_layer,\n",
    "    num_layers=1\n",
    ")\n",
    "\n",
    "encoder_output = transformer_encoder(input_sequence_embeddings)\n",
    "\n",
    "encoder_output.shape"
   ]
  },
  {
   "cell_type": "markdown",
   "id": "66d525b3-2332-403d-a1c9-6ea6d354c7b7",
   "metadata": {},
   "source": [
    "Generate masked sequences from the original one to perform masked language modeling (MLM): every token in every sequence is converted to the masked one (set conventionally) with some probability.\n",
    "\n",
    "**Mask:** we pass the mask as the encoder's `src_key_padding_mask` option, which means it should have shape `(batch_size, seq_len)` and (if of boolean type) contain `False` when no masking is needed and `True` when it is. In practice, it's obtained by simply checking the masked sequences against the padding value."
   ]
  },
  {
   "cell_type": "code",
   "execution_count": 6,
   "id": "b5d12c93-79bb-44a1-86f6-d93c526e7076",
   "metadata": {},
   "outputs": [],
   "source": [
    "masked_sequences = sequences.clone()\n",
    "\n",
    "masking_rate = 0.1\n",
    "\n",
    "for i in range(sequences.shape[0]):\n",
    "    for j in range(sequences.shape[1]):\n",
    "        if torch.rand(1) < masking_rate:\n",
    "            masked_sequences[i, j] = mask_idx\n",
    "\n",
    "mask = (masked_sequences == mask_idx)"
   ]
  },
  {
   "cell_type": "code",
   "execution_count": 7,
   "id": "d9b46fdd-39be-47dd-a043-b398972f360b",
   "metadata": {},
   "outputs": [
    {
     "data": {
      "text/plain": [
       "tensor([[False, False, False,  ..., False, False, False],\n",
       "        [False, False, False,  ..., False, False,  True],\n",
       "        [False, False,  True,  ..., False, False,  True],\n",
       "        ...,\n",
       "        [ True, False, False,  ..., False, False, False],\n",
       "        [False, False, False,  ..., False, False, False],\n",
       "        [ True, False, False,  ..., False,  True, False]])"
      ]
     },
     "execution_count": 7,
     "metadata": {},
     "output_type": "execute_result"
    }
   ],
   "source": [
    "mask"
   ]
  },
  {
   "cell_type": "markdown",
   "id": "d0689478-3fec-4104-ba36-3b6513e2338b",
   "metadata": {},
   "source": [
    "**Questions:**\n",
    "- Should we pass the masked sequences or the original ones (always along with the mask) to the encoder?\n",
    "\n",
    "Answer: we should pass the masked sequences to the encoder, and then use the decoder to generate logits for every token in every sequence and compare this with the ground truth (non-masked sequences) via the cross-entropy loss.\n",
    "\n",
    "What to do with the **masked embeddings**?\n",
    " \n",
    " - If we pass the masked sequences, we should have input embeddings be created for the `<mask>` token, so it should be explicitly modeled. Could we indicate it as a padding token as we instantiate the `Embedding` layer for the input embeddings?\n",
    " \n",
    "A: the `<mask>` token should be explicitly modeled as part of the vocabulary. It shouldn't be among the possible **predicted** tokens though.\n",
    "\n",
    "- If we pass the original sequences we're leaving the original embeddings for the masked tokens, is the mask sufficient to tell the model to ignore them?\n",
    "\n",
    "A: masking is not sufficient. Indeed, we should pass the masked sequences to the encoder.\n",
    "\n",
    "- What about the gradient? Should we \"disconnect\" the masked token from the compute graph?\n",
    "\n",
    "A: still not clear. The attention mask should avoid connecting the embeddings of the masked tokens with the loss, but it's just a guess (and what about residual connections?).\n",
    "\n",
    "What about the **full model** (with a decoder as well)?\n",
    "\n",
    "- How do we tell which are the masked tokens to predict for in the sequences? The decoder won't know anything about the masking, so it'll have no way to distinguish between a masked token and a not masked one.\n",
    "\n",
    "A: it's true that the decoder won't know explicitly which are the masked tokens, but indirectly it will because we pass the masked sequences as input and because in the end we'll probably have to select ony the loss terms correspnding to the predictions for the masked tokens.\n",
    "\n",
    "- Should the decoder predict for one masked token at the time (how to select them? Mask them one by one?) or all masked tokens together (in which case, see the previous point)?\n",
    "\n",
    "A: the decoder should predict for all the tokens, masked and non-masked, so that for an input of shape `(batch_size, seq_len)` we get a final output of shape `(batch_size, seq_len, vocab_size)`, the last dimension corresponding to the logits over the vocabulary (restricted to the token that should be predicted, e.g. not `<mask>`). This means that we'll effectively predict for the entire sequence of tokens every time and computing the cross-entropy loss with the non-masked sequences we'll get a tensor of loss values of shape `(batch_size, seq_len)`. Now we can choose (not clear which is the right choice though!) whether to use compute the final loss as the mean over all the entries of this tensor or just over the ones corresponding to the masked tokens (by applying the mask over the tensor of loss values)."
   ]
  },
  {
   "cell_type": "code",
   "execution_count": 12,
   "id": "b5d067d2-0eea-46c0-9535-dfe4c5ad4403",
   "metadata": {},
   "outputs": [
    {
     "data": {
      "text/plain": [
       "tensor([[[-0.0290, -1.4483,  0.2451,  ...,  0.6581, -1.7872, -0.9144],\n",
       "         [ 0.3452,  0.6251,  0.1088,  ..., -1.1884,  1.6174,  1.6512],\n",
       "         [ 0.4943,  0.4641,  0.0205,  ..., -1.0078,  1.6852,  1.5408],\n",
       "         ...,\n",
       "         [ 0.3771,  1.2614,  0.3377,  ..., -0.0295,  1.3668,  0.4894],\n",
       "         [ 0.5643,  0.4755,  0.1923,  ..., -1.2817,  1.6874,  1.5795],\n",
       "         [ 0.1603,  0.4404, -0.0568,  ..., -1.3516,  1.7183,  1.6342]],\n",
       "\n",
       "        [[ 0.1994, -1.0017, -0.1838,  ...,  1.0559, -1.8085, -0.9750],\n",
       "         [ 0.5908, -0.2653, -0.8072,  ...,  2.4222,  0.9356,  0.4583],\n",
       "         [ 0.8316, -0.1844, -0.7723,  ...,  2.2629,  1.1053,  0.2142],\n",
       "         ...,\n",
       "         [-0.6129, -0.4498,  0.7233,  ..., -0.1183, -1.2245, -0.9194],\n",
       "         [-0.0767, -1.2105,  0.1428,  ...,  0.8197, -1.7863, -0.8375],\n",
       "         [ 2.3046, -1.6464, -0.2519,  ..., -0.3259, -1.2096,  0.2420]],\n",
       "\n",
       "        [[ 0.1837,  1.0495,  0.3672,  ..., -0.2346,  1.1039,  0.4407],\n",
       "         [ 0.3430, -1.2616,  0.2235,  ...,  0.7787, -1.7945, -0.7701],\n",
       "         [ 2.3042, -1.6939, -0.2242,  ..., -0.3748, -1.2372,  0.0965],\n",
       "         ...,\n",
       "         [ 0.5128, -0.1674, -0.8681,  ...,  2.4351,  0.8423,  0.1530],\n",
       "         [ 1.4123,  1.9731,  0.1166,  ...,  0.1810, -0.2989,  0.5601],\n",
       "         [ 1.8929, -1.7481, -0.0691,  ..., -0.5210, -1.2325,  0.2026]],\n",
       "\n",
       "        ...,\n",
       "\n",
       "        [[ 2.2937, -1.6604, -0.0800,  ..., -0.6787, -1.3488,  0.1168],\n",
       "         [-0.0579,  0.9971,  0.4782,  ...,  0.0463,  1.0560,  0.3310],\n",
       "         [ 0.0611, -1.2379,  0.1348,  ...,  0.9081, -1.7853, -1.1061],\n",
       "         ...,\n",
       "         [ 0.1308, -0.9863,  0.0053,  ...,  0.7461, -1.9249, -0.8357],\n",
       "         [ 0.2813,  0.3037,  0.0183,  ..., -1.3204,  1.8826,  1.4401],\n",
       "         [ 0.1171, -1.2919,  0.2536,  ...,  0.7038, -1.7608, -0.8157]],\n",
       "\n",
       "        [[ 0.1870,  1.0866,  0.4893,  ..., -0.2018,  1.0609,  0.5498],\n",
       "         [ 0.6675, -0.2992, -0.8035,  ...,  2.5985,  0.8795,  0.4167],\n",
       "         [ 0.3635,  0.4909,  0.2277,  ..., -1.3541,  1.7489,  1.6135],\n",
       "         ...,\n",
       "         [ 0.4889,  0.5112, -0.7448,  ...,  2.5392,  0.8351,  0.3419],\n",
       "         [-0.4578, -0.5156, -0.4087,  ..., -0.7715, -1.5532,  0.0888],\n",
       "         [ 1.4681,  2.0074,  0.3045,  ...,  0.1467, -0.2742,  0.6244]],\n",
       "\n",
       "        [[ 2.2904, -1.7638, -0.0666,  ..., -0.3696, -1.3292,  0.1446],\n",
       "         [ 0.3579,  0.7592,  0.5433,  ..., -0.6375,  0.2278,  0.7426],\n",
       "         [-0.6357, -0.5700, -0.1644,  ..., -0.6672, -1.3797,  0.1447],\n",
       "         ...,\n",
       "         [ 0.1606,  0.9512,  0.4107,  ..., -0.2185,  1.2829,  0.2634],\n",
       "         [ 1.9873, -1.6666, -0.0918,  ..., -0.3975, -1.3441,  0.0970],\n",
       "         [ 0.7652, -0.2487, -0.7061,  ...,  2.5118,  0.9645, -0.0188]]],\n",
       "       grad_fn=<NativeLayerNormBackward0>)"
      ]
     },
     "execution_count": 12,
     "metadata": {},
     "output_type": "execute_result"
    }
   ],
   "source": [
    "encoder_output_masked = transformer_encoder(\n",
    "    embedding_layer(masked_sequences),\n",
    "    # src_key_padding_mask=mask\n",
    ")\n",
    "\n",
    "encoder_output_masked"
   ]
  },
  {
   "cell_type": "code",
   "execution_count": 13,
   "id": "fb163e02-08c8-4643-a944-b4409829f5c2",
   "metadata": {},
   "outputs": [
    {
     "data": {
      "text/plain": [
       "torch.Size([64, 256, 128])"
      ]
     },
     "execution_count": 13,
     "metadata": {},
     "output_type": "execute_result"
    }
   ],
   "source": [
    "encoder_output_masked.shape"
   ]
  },
  {
   "cell_type": "markdown",
   "id": "f00701d0-1bd0-4e1a-96aa-6c13a2feb2ff",
   "metadata": {},
   "source": [
    "The final output layer maps each token in each sequence to a set of logits (or probabilities) over the \"proper\" vocabulary (excluding special tokens), so it has tensors of shape `(batch_size, seq_len, hidden_dim)` as input and outputs tensors of shape `(batch_size, seq_len, vocab_size)`."
   ]
  },
  {
   "cell_type": "code",
   "execution_count": 14,
   "id": "8bc792ab-f465-4d8c-a722-8d31381bf3d7",
   "metadata": {},
   "outputs": [
    {
     "data": {
      "text/plain": [
       "(torch.Size([64, 256, 8]),\n",
       " torch.Size([64, 256, 8]),\n",
       " tensor([[1.0000, 1.0000, 1.0000,  ..., 1.0000, 1.0000, 1.0000],\n",
       "         [1.0000, 1.0000, 1.0000,  ..., 1.0000, 1.0000, 1.0000],\n",
       "         [1.0000, 1.0000, 1.0000,  ..., 1.0000, 1.0000, 1.0000],\n",
       "         ...,\n",
       "         [1.0000, 1.0000, 1.0000,  ..., 1.0000, 1.0000, 1.0000],\n",
       "         [1.0000, 1.0000, 1.0000,  ..., 1.0000, 1.0000, 1.0000],\n",
       "         [1.0000, 1.0000, 1.0000,  ..., 1.0000, 1.0000, 1.0000]],\n",
       "        grad_fn=<SumBackward1>))"
      ]
     },
     "execution_count": 14,
     "metadata": {},
     "output_type": "execute_result"
    }
   ],
   "source": [
    "output_layer = torch.nn.Linear(\n",
    "    in_features=hidden_dim,\n",
    "    out_features=q\n",
    ")\n",
    "\n",
    "output_logits = output_layer(encoder_output_masked)\n",
    "output_probs = torch.nn.Softmax(dim=-1)(output_logits)\n",
    "\n",
    "output_logits.shape, output_probs.shape, output_probs.sum(dim=-1)"
   ]
  },
  {
   "cell_type": "markdown",
   "id": "860b8c52-f1dc-48c2-86e1-88b259cc4631",
   "metadata": {},
   "source": [
    "Observation on the loss function (**should masking be considered at this stage?**):\n",
    "- We need the model (output layer) to output the predicted logits for each token in each sequence, i.e. a tensor of shape `(batch_size, seq_len, vocab_size)`, where the last dimension represents the logits over the vocabulary.\n",
    "- PyTorch's `CrossEntropyLoss` function accepts the logits and the true labels as the input, with the latter either as they are (class labels) or with one-hot encoding. In this case, if the predicted logits are put in the shape PyTorch expects (see point below), no one-hot encoding is needed for the targets.\n",
    "- Without any aggregation, we should have a value for the loss for each token in each sequence, which gives a tensor of loss values of shape `(batch_size, seq_len)`. PyTorch assumes that the predicted logits have shape `(batch_size, n_classes, [additional dims])`, so the last two dimensions of the output logits need to be switched.\n",
    "- **Guess:** probably the final loss should be computed only for the masked tokens, so we have to apply the mask to the loss tensor before aggregating the values."
   ]
  },
  {
   "cell_type": "code",
   "execution_count": 15,
   "id": "31168f66-4498-42b1-be41-6fbab17dd4b0",
   "metadata": {},
   "outputs": [
    {
     "data": {
      "text/plain": [
       "(tensor([[3.4903, 1.6067, 1.6570,  ..., 2.5112, 1.4768, 1.6383],\n",
       "         [3.3925, 3.8067, 3.9073,  ..., 2.4712, 3.4151, 1.9716],\n",
       "         [2.6250, 3.4439, 1.3120,  ..., 3.8554, 2.6951, 3.0362],\n",
       "         ...,\n",
       "         [3.1953, 2.5349, 3.4119,  ..., 3.4123, 1.6710, 3.3674],\n",
       "         [2.5336, 3.7902, 1.5737,  ..., 3.9473, 1.7537, 2.5176],\n",
       "         [1.2555, 1.5612, 1.6691,  ..., 2.5762, 2.0930, 3.8554]],\n",
       "        grad_fn=<ViewBackward0>),\n",
       " torch.Size([64, 256]))"
      ]
     },
     "execution_count": 15,
     "metadata": {},
     "output_type": "execute_result"
    }
   ],
   "source": [
    "loss_fn = torch.nn.CrossEntropyLoss(\n",
    "    reduction='none'  # Default: 'mean'.\n",
    ")\n",
    "\n",
    "loss_tensor = loss_fn(\n",
    "    torch.permute(output_logits, dims=(0, 2, 1)),\n",
    "    sequences\n",
    ")\n",
    "\n",
    "loss_tensor, loss_tensor.shape"
   ]
  },
  {
   "cell_type": "code",
   "execution_count": 16,
   "id": "df4d1a23-9207-41e1-899b-683b2cb9ffd9",
   "metadata": {},
   "outputs": [
    {
     "data": {
      "text/plain": [
       "tensor(2.2712, grad_fn=<MeanBackward0>)"
      ]
     },
     "execution_count": 16,
     "metadata": {},
     "output_type": "execute_result"
    }
   ],
   "source": [
    "# Use masking if predicting only for the masked tokens,\n",
    "# drop the mask (!) to predict for the whole sequence.\n",
    "loss = loss_tensor[mask].mean()\n",
    "\n",
    "loss"
   ]
  },
  {
   "cell_type": "markdown",
   "id": "59d961fb-3dbe-4ae3-b162-3f426ccdbc2a",
   "metadata": {},
   "source": [
    "## Building a model for MLM"
   ]
  },
  {
   "cell_type": "code",
   "execution_count": 17,
   "id": "2c4cab39-f67a-4d76-95c3-af012a01b1b6",
   "metadata": {},
   "outputs": [
    {
     "data": {
      "text/plain": [
       "tensor([[[-0.5034,  0.3430, -0.9629,  ...,  0.5773,  1.1145,  0.7478],\n",
       "         [ 0.0952, -0.8594, -0.8214,  ...,  1.3722, -0.1491,  0.2409],\n",
       "         [-0.3162, -0.9446, -1.1253,  ...,  0.7653, -0.4901,  0.3828],\n",
       "         ...,\n",
       "         [ 0.0988, -1.0715, -0.5927,  ..., -0.9521,  0.8289,  0.5411],\n",
       "         [ 0.4000, -1.3849, -0.8203,  ...,  0.4781, -0.0317,  0.1036],\n",
       "         [ 0.2004, -1.2422, -0.8967,  ...,  0.5036,  0.1347,  0.5359]],\n",
       "\n",
       "        [[-0.6349, -0.1459, -1.3031,  ...,  0.6147,  0.8781,  0.3331],\n",
       "         [-1.2160,  0.4235,  0.0651,  ..., -0.7708,  0.7488,  0.5718],\n",
       "         [-1.1911,  0.3849,  0.0250,  ..., -0.4980,  0.8087,  0.5262],\n",
       "         ...,\n",
       "         [ 0.4344, -0.8499,  0.9137,  ..., -0.1813,  0.4762, -0.8045],\n",
       "         [-0.0141, -0.0068, -1.3151,  ..., -0.1438,  1.1790,  0.6050],\n",
       "         [ 0.4919,  0.3130,  0.1599,  ..., -0.2795,  0.1510, -0.0299]],\n",
       "\n",
       "        [[ 0.2132, -0.8751, -0.8432,  ..., -0.3938,  0.5776,  0.4708],\n",
       "         [-0.3050,  0.4148, -1.1664,  ...,  0.5381,  0.4877,  0.4506],\n",
       "         [ 0.1534, -0.1056, -0.0284,  ...,  0.4639,  0.0620, -0.3244],\n",
       "         ...,\n",
       "         [-1.3099,  0.2598,  0.0463,  ..., -1.0624,  0.8301,  0.1808],\n",
       "         [-0.5139,  0.1514, -0.8999,  ..., -0.3563,  0.2036,  0.0815],\n",
       "         [ 0.2534,  0.1145,  0.1731,  ..., -0.3285,  0.7060,  0.2862]],\n",
       "\n",
       "        ...,\n",
       "\n",
       "        [[ 0.2810,  0.2214,  0.2800,  ..., -0.0163,  0.2417, -0.3172],\n",
       "         [-0.1758, -1.0160, -0.7404,  ...,  0.0175,  0.5986,  0.9520],\n",
       "         [-0.4376,  0.1297, -1.3612,  ...,  0.6217,  0.8895,  0.6640],\n",
       "         ...,\n",
       "         [-0.3811, -0.2597, -0.9177,  ...,  0.0677,  1.3790,  0.4244],\n",
       "         [ 0.4317, -1.1233, -0.6460,  ...,  0.5537,  0.2932,  0.0864],\n",
       "         [ 0.0329,  0.1477, -1.2239,  ...,  0.1011,  1.5946,  1.2928]],\n",
       "\n",
       "        [[ 0.3411, -0.7683, -0.8750,  ..., -0.3566,  0.5865,  0.7566],\n",
       "         [-1.1005,  0.5623, -0.0872,  ..., -0.1495,  0.4877,  0.4680],\n",
       "         [-0.4368, -0.9577, -1.0994,  ...,  1.2155, -0.2152,  0.2256],\n",
       "         ...,\n",
       "         [-1.1285,  0.3875,  0.1995,  ..., -1.1139,  0.9266,  0.4960],\n",
       "         [ 0.6146,  0.9015, -0.6374,  ...,  0.0373,  0.6425, -0.1147],\n",
       "         [-0.5089,  0.1027, -1.2105,  ..., -0.2465,  0.0926,  0.6402]],\n",
       "\n",
       "        [[ 0.2385,  0.2436,  0.5528,  ..., -0.1675,  0.1138, -0.4382],\n",
       "         [ 0.8761, -0.5990, -0.2324,  ...,  0.3359, -0.2989, -0.3970],\n",
       "         [ 0.0280,  1.2641, -0.8492,  ...,  0.8027,  0.7893, -0.8018],\n",
       "         ...,\n",
       "         [ 0.1256, -0.7013, -0.6317,  ..., -1.0543,  0.7160,  0.8986],\n",
       "         [ 0.2072,  0.0019,  0.3723,  ..., -0.5078,  0.7573, -0.3167],\n",
       "         [-0.7196,  0.3500,  0.3893,  ..., -1.0978,  1.0046,  0.9022]]],\n",
       "       grad_fn=<ViewBackward0>)"
      ]
     },
     "execution_count": 17,
     "metadata": {},
     "output_type": "execute_result"
    }
   ],
   "source": [
    "model = TransformerClassifier(\n",
    "    seq_len=seq_len,\n",
    "    embedding_size=hidden_dim,\n",
    "    n_tranformer_layers=1,\n",
    "    n_heads=1,\n",
    "    vocab_size=vocab.shape[0],\n",
    "    n_special_tokens=1,\n",
    "    embedding_agg=None,\n",
    "    decoder_hidden_sizes=[],\n",
    "    decoder_activation='identity',\n",
    "    decoder_output_activation='identity'  # 'identity' --> Output logits\n",
    ")\n",
    "\n",
    "# Output shape: (batch_size, seq_len, vocab_size) (excluding\n",
    "# the special tokens from the vocabulary, which shouldn't be\n",
    "# predicted).\n",
    "model(\n",
    "    masked_sequences,\n",
    "    # src_key_padding_mask=mask\n",
    ")"
   ]
  },
  {
   "cell_type": "code",
   "execution_count": 23,
   "id": "602e8654-4b7e-41f1-b7e1-58881a5eeee5",
   "metadata": {},
   "outputs": [
    {
     "data": {
      "text/plain": [
       "tensor(2.1741, grad_fn=<MeanBackward0>)"
      ]
     },
     "execution_count": 23,
     "metadata": {},
     "output_type": "execute_result"
    }
   ],
   "source": [
    "loss_fn = torch.nn.CrossEntropyLoss(\n",
    "    reduction='none'\n",
    ")\n",
    "\n",
    "# Use masking if predicting only for the masked tokens,\n",
    "# drop the mask (!) to predict for the whole sequence.\n",
    "loss = loss_fn(\n",
    "    torch.permute(\n",
    "        model(\n",
    "            masked_sequences,\n",
    "            # src_key_padding_mask=mask\n",
    "        ),\n",
    "        (0, 2, 1)),\n",
    "    sequences\n",
    ")[mask].mean()\n",
    "\n",
    "loss"
   ]
  }
 ],
 "metadata": {
  "kernelspec": {
   "display_name": "Python 3 (ipykernel)",
   "language": "python",
   "name": "python3"
  },
  "language_info": {
   "codemirror_mode": {
    "name": "ipython",
    "version": 3
   },
   "file_extension": ".py",
   "mimetype": "text/x-python",
   "name": "python",
   "nbconvert_exporter": "python",
   "pygments_lexer": "ipython3",
   "version": "3.10.13"
  }
 },
 "nbformat": 4,
 "nbformat_minor": 5
}
