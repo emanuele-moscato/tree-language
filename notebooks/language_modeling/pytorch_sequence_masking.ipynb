{
 "cells": [
  {
   "cell_type": "markdown",
   "id": "02d352cd-0457-466b-afd4-4b8f3a93441c",
   "metadata": {},
   "source": [
    "# Sequence masking with PyTorch"
   ]
  },
  {
   "cell_type": "markdown",
   "id": "06e9cd66-e2d3-4444-936c-1d4a925b7308",
   "metadata": {},
   "source": [
    "Resources:\n",
    "- Masking:\n",
    "    - [Difference between `src_mask` and `src_key_padding_mask` in PyTorch Transformer layers (from StackOverflow)](https://stackoverflow.com/questions/62170439/difference-between-src-mask-and-src-key-padding-mask)\n",
    "    - [UvA (University of Amsterdam) DL tutorial](https://uvadlc-notebooks.readthedocs.io/en/latest/tutorial_notebooks/tutorial6/Transformers_and_MHAttention.html)\n",
    "    - [Judit Ács' blog post](https://juditacs.github.io/2018/12/27/masked-attention.html) (but watch out: **the attention matrix is not square!**)\n",
    "- Masked language modeling:\n",
    "    - [Kaggle notebook](https://www.kaggle.com/code/mojammel/masked-language-model-with-pytorch-transformer) (very similar to the PyTorch tutorial below)\n",
    "    - [MLM with BERT blog post](https://towardsdatascience.com/masked-language-modelling-with-bert-7d49793e5d2c)\n",
    "    - [PyTorch transformer tutorial](https://pytorch.org/tutorials/beginner/transformer_tutorial.html)\n",
    "    - [Tutorial with TensorFlow](https://keras.io/examples/nlp/masked_language_modeling/#create-bert-model-pretraining-model-for-masked-language-modeling) (this is actually a good reference, with tensor shapes etc.)\n",
    "    - [Tutorial with PyTorch](https://neptune.ai/blog/how-to-code-bert-using-pytorch-tutorial)"
   ]
  },
  {
   "cell_type": "code",
   "execution_count": 12,
   "id": "08e824b3-b56e-44bc-9526-c2783ab57d67",
   "metadata": {},
   "outputs": [
    {
     "name": "stdout",
     "output_type": "stream",
     "text": [
      "The autoreload extension is already loaded. To reload it, use:\n",
      "  %reload_ext autoreload\n"
     ]
    }
   ],
   "source": [
    "import sys\n",
    "import torch\n",
    "\n",
    "sys.path.append('../../modules/')\n",
    "\n",
    "from models import TransformerClassifier, FFNN\n",
    "\n",
    "%load_ext autoreload\n",
    "%autoreload 2"
   ]
  },
  {
   "cell_type": "markdown",
   "id": "4633f1af-489a-4ebd-9629-c831ba2bb80d",
   "metadata": {},
   "source": [
    "## Data"
   ]
  },
  {
   "cell_type": "markdown",
   "id": "85becff7-d2a7-4e09-9a43-a5edc4f369fb",
   "metadata": {},
   "source": [
    "Generate a vocabulary."
   ]
  },
  {
   "cell_type": "code",
   "execution_count": 2,
   "id": "384a18d5-80da-4d90-af0e-be65054e2153",
   "metadata": {},
   "outputs": [
    {
     "data": {
      "text/plain": [
       "tensor([0, 1, 2, 3, 4, 5, 6, 7, 8])"
      ]
     },
     "execution_count": 2,
     "metadata": {},
     "output_type": "execute_result"
    }
   ],
   "source": [
    "# Vocabulary size.\n",
    "q = 8\n",
    "\n",
    "vocab = torch.arange(q).to(dtype=torch.int64)\n",
    "mask_idx = vocab.max() + 1\n",
    "\n",
    "# Enalarge the vocabulary with the special tokens.\n",
    "vocab = torch.hstack([vocab, torch.Tensor(mask_idx).to(dtype=torch.int64)])\n",
    "\n",
    "vocab"
   ]
  },
  {
   "cell_type": "markdown",
   "id": "c8dda572-0edb-4477-b2a3-afd15c4c24dd",
   "metadata": {},
   "source": [
    "Generate sequences of tokens.\n",
    "\n",
    "**Note:** in the case considered all sequences have the same length and therefore no padding is (ever) needed."
   ]
  },
  {
   "cell_type": "code",
   "execution_count": 3,
   "id": "e3d287ab-557c-4871-9321-4d685c4e1ecb",
   "metadata": {},
   "outputs": [
    {
     "data": {
      "text/plain": [
       "tensor([[1, 1, 2,  ..., 4, 7, 2],\n",
       "        [3, 1, 4,  ..., 7, 5, 0],\n",
       "        [5, 5, 7,  ..., 7, 3, 1],\n",
       "        ...,\n",
       "        [5, 3, 2,  ..., 5, 5, 6],\n",
       "        [2, 4, 4,  ..., 6, 7, 6],\n",
       "        [2, 3, 0,  ..., 3, 4, 0]])"
      ]
     },
     "execution_count": 3,
     "metadata": {},
     "output_type": "execute_result"
    }
   ],
   "source": [
    "# Tree depth.\n",
    "l = 8\n",
    "\n",
    "batch_size = 64\n",
    "seq_len = 2 ** l\n",
    "\n",
    "sequences = torch.randint(q, (batch_size, seq_len))\n",
    "\n",
    "sequences"
   ]
  },
  {
   "cell_type": "markdown",
   "id": "50e81a39-dab6-4e54-8254-4370a04bd57e",
   "metadata": {},
   "source": [
    "## Building attention masks"
   ]
  },
  {
   "cell_type": "markdown",
   "id": "3dbf0836-fc11-4fe7-9ae2-3ae130f09a0d",
   "metadata": {},
   "source": [
    "Given the sequences, generate trainable input embeddings for them (just the semantic part, we're skipping the positional encoding here as it's not essential)."
   ]
  },
  {
   "cell_type": "code",
   "execution_count": 4,
   "id": "4c52ad3b-0c25-45fa-a49d-f77e6128a4f6",
   "metadata": {},
   "outputs": [
    {
     "data": {
      "text/plain": [
       "torch.Size([64, 256, 128])"
      ]
     },
     "execution_count": 4,
     "metadata": {},
     "output_type": "execute_result"
    }
   ],
   "source": [
    "hidden_dim = 128\n",
    "\n",
    "embedding_layer = torch.nn.Embedding(\n",
    "    num_embeddings=vocab.shape[0],\n",
    "    embedding_dim=hidden_dim\n",
    ")\n",
    "\n",
    "input_sequence_embeddings = embedding_layer(sequences)\n",
    "\n",
    "input_sequence_embeddings.shape"
   ]
  },
  {
   "cell_type": "markdown",
   "id": "6da40c2f-c5f2-4159-8924-19085176008e",
   "metadata": {},
   "source": [
    "Instantiate a transformer Encoder model.\n",
    "\n",
    "**Note:** by convention, we stick with having the batch dimension as the first one."
   ]
  },
  {
   "cell_type": "code",
   "execution_count": 5,
   "id": "86de4d21-a971-44bb-9b2a-8333da8b72d0",
   "metadata": {},
   "outputs": [
    {
     "name": "stderr",
     "output_type": "stream",
     "text": [
      "/home/moscato/miniconda3/envs/tree-language/lib/python3.10/site-packages/torch/nn/modules/transformer.py:286: UserWarning: enable_nested_tensor is True, but self.use_nested_tensor is False because encoder_layer.self_attn.num_heads is odd\n",
      "  warnings.warn(f\"enable_nested_tensor is True, but self.use_nested_tensor is False because {why_not_sparsity_fast_path}\")\n"
     ]
    },
    {
     "data": {
      "text/plain": [
       "torch.Size([64, 256, 128])"
      ]
     },
     "execution_count": 5,
     "metadata": {},
     "output_type": "execute_result"
    }
   ],
   "source": [
    "# A single encoder layer to be used in the full stack.\n",
    "encoder_layer = torch.nn.TransformerEncoderLayer(\n",
    "    d_model=hidden_dim,\n",
    "    nhead=1,\n",
    "    dim_feedforward=2048,\n",
    "    batch_first=True\n",
    ")\n",
    "\n",
    "# Stack of encoder layers.\n",
    "transformer_encoder = torch.nn.TransformerEncoder(\n",
    "    encoder_layer,\n",
    "    num_layers=1\n",
    ")\n",
    "\n",
    "encoder_output = transformer_encoder(input_sequence_embeddings)\n",
    "\n",
    "encoder_output.shape"
   ]
  },
  {
   "cell_type": "markdown",
   "id": "66d525b3-2332-403d-a1c9-6ea6d354c7b7",
   "metadata": {},
   "source": [
    "Generate masked sequences from the original one to perform masked language modeling (MLM): every token in every sequence is converted to the masked one (set conventionally) with some probability.\n",
    "\n",
    "**Mask:** we pass the mask as the encoder's `src_key_padding_mask` option, which means it should have shape `(batch_size, seq_len)` and (if of boolean type) contain `False` when no masking is needed and `True` when it is. In practice, it's obtained by simply checking the masked sequences against the padding value."
   ]
  },
  {
   "cell_type": "code",
   "execution_count": 6,
   "id": "b5d12c93-79bb-44a1-86f6-d93c526e7076",
   "metadata": {},
   "outputs": [],
   "source": [
    "masked_sequences = sequences.clone()\n",
    "\n",
    "masking_rate = 0.1\n",
    "\n",
    "for i in range(sequences.shape[0]):\n",
    "    for j in range(sequences.shape[1]):\n",
    "        if torch.rand(1) < masking_rate:\n",
    "            masked_sequences[i, j] = mask_idx\n",
    "\n",
    "mask = (masked_sequences == mask_idx)"
   ]
  },
  {
   "cell_type": "markdown",
   "id": "d0689478-3fec-4104-ba36-3b6513e2338b",
   "metadata": {},
   "source": [
    "**Questions:**\n",
    "- Should we pass the masked sequences or the original ones (always along with the mask) to the encoder?\n",
    "\n",
    "Answer: we should pass the masked sequences to the encoder, and then use the decoder to generate logits for every token in every sequence and compare this with the ground truth (non-masked sequences) via the cross-entropy loss.\n",
    "\n",
    "What to do with the **masked embeddings**?\n",
    " \n",
    " - If we pass the masked sequences, we should have input embeddings be created for the `<mask>` token, so it should be explicitly modeled. Could we indicate it as a padding token as we instantiate the `Embedding` layer for the input embeddings?\n",
    " \n",
    "A: the `<mask>` token should be explicitly modeled as part of the vocabulary. It shouldn't be among the possible **predicted** tokens though.\n",
    "\n",
    "- If we pass the original sequences we're leaving the original embeddings for the masked tokens, is the mask sufficient to tell the model to ignore them?\n",
    "\n",
    "A: masking is not sufficient. Indeed, we should pass the masked sequences to the encoder.\n",
    "\n",
    "- What about the gradient? Should we \"disconnect\" the masked token from the compute graph?\n",
    "\n",
    "A: still not clear. The attention mask should avoid connecting the embeddings of the masked tokens with the loss, but it's just a guess (and what about residual connections?).\n",
    "\n",
    "What about the **full model** (with a decoder as well)?\n",
    "\n",
    "- How do we tell which are the masked tokens to predict for in the sequences? The decoder won't know anything about the masking, so it'll have no way to distinguish between a masked token and a not masked one.\n",
    "\n",
    "A: it's true that the decoder won't know explicitly which are the masked tokens, but indirectly it will because we pass the masked sequences as input and because in the end we'll probably have to select ony the loss terms correspnding to the predictions for the masked tokens.\n",
    "\n",
    "- Should the decoder predict for one masked token at the time (how to select them? Mask them one by one?) or all masked tokens together (in which case, see the previous point)?\n",
    "\n",
    "A: the decoder should predict for all the tokens, masked and non-masked, so that for an input of shape `(batch_size, seq_len)` we get a final output of shape `(batch_size, seq_len, vocab_size)`, the last dimension corresponding to the logits over the vocabulary (restricted to the token that should be predicted, e.g. not `<mask>`). This means that we'll effectively predict for the entire sequence of tokens every time and computing the cross-entropy loss with the non-masked sequences we'll get a tensor of loss values of shape `(batch_size, seq_len)`. Now we can choose (not clear which is the right choice though!) whether to use compute the final loss as the mean over all the entries of this tensor or just over the ones corresponding to the masked tokens (by applying the mask over the tensor of loss values)."
   ]
  },
  {
   "cell_type": "code",
   "execution_count": 7,
   "id": "b5d067d2-0eea-46c0-9535-dfe4c5ad4403",
   "metadata": {},
   "outputs": [
    {
     "data": {
      "text/plain": [
       "tensor([[[-1.6878,  0.2216,  0.4210,  ...,  1.1461, -0.0612, -0.3649],\n",
       "         [-1.7294,  0.3450,  0.3150,  ...,  1.2427, -0.0351, -0.5012],\n",
       "         [-0.1237, -1.6333, -0.2061,  ...,  0.5824,  0.6188,  0.5238],\n",
       "         ...,\n",
       "         [-0.2125, -1.2664, -0.4888,  ...,  1.8632,  0.5314,  0.0293],\n",
       "         [-3.1080,  0.1778, -0.1151,  ...,  0.0234, -1.3789, -0.0511],\n",
       "         [-0.1504, -1.5409, -0.1529,  ...,  0.7163,  0.9293,  0.3315]],\n",
       "\n",
       "        [[-0.3278,  0.1928,  0.7338,  ..., -0.4091,  0.5358, -0.3875],\n",
       "         [-1.6437,  0.3576,  0.1702,  ...,  1.3893,  0.1358, -0.4145],\n",
       "         [ 1.6211,  0.9031, -2.3291,  ...,  1.2343,  1.4894,  0.7451],\n",
       "         ...,\n",
       "         [-3.3954,  0.1630, -0.5129,  ...,  0.0550, -1.2563,  0.0566],\n",
       "         [-0.5306, -0.6755,  1.5678,  ..., -0.7571, -0.3739,  1.0078],\n",
       "         [ 0.2511,  0.1878,  0.0744,  ...,  0.7619,  0.0958, -2.2071]],\n",
       "\n",
       "        [[-0.4421, -0.3665,  1.6370,  ..., -0.7502, -0.0875,  0.8530],\n",
       "         [-0.2229, -0.2698,  1.5723,  ..., -0.5775, -0.2929,  0.8627],\n",
       "         [-3.2205,  0.1969, -0.0807,  ..., -0.0144, -1.2009, -0.0326],\n",
       "         ...,\n",
       "         [-3.3020,  0.4356, -0.2682,  ..., -0.0153, -1.3238, -0.1901],\n",
       "         [ 1.5918,  0.7461, -1.9543,  ...,  1.3776,  1.4420,  0.8229],\n",
       "         [-1.4617,  0.3645,  0.5092,  ...,  1.2315,  0.1867, -0.5277]],\n",
       "\n",
       "        ...,\n",
       "\n",
       "        [[-0.5238, -0.2641,  1.6608,  ..., -0.4755, -0.4507,  0.9866],\n",
       "         [-0.3242,  0.5680,  0.7660,  ..., -0.4436,  0.5098, -0.3124],\n",
       "         [-0.0248, -1.5061, -0.2246,  ...,  0.8474,  0.7648,  0.8190],\n",
       "         ...,\n",
       "         [ 1.6592,  0.7823, -2.1967,  ...,  1.3514,  1.3431,  0.7294],\n",
       "         [-0.4288, -0.4213,  1.6398,  ..., -0.6930, -0.5046,  0.9899],\n",
       "         [-1.9990, -0.0093,  0.6244,  ...,  1.3155, -1.2008,  1.4657]],\n",
       "\n",
       "        [[-0.0443, -1.5547, -0.2248,  ...,  0.6601,  0.7246,  0.5972],\n",
       "         [-0.1471, -1.1047, -0.3771,  ...,  2.0215,  0.7137,  0.1711],\n",
       "         [ 0.0156, -1.3460, -0.3902,  ...,  1.7884,  0.5725,  0.0159],\n",
       "         ...,\n",
       "         [-2.1235,  0.2316,  0.3665,  ...,  0.9469, -1.0606,  1.5976],\n",
       "         [-3.3801,  0.2839, -0.4596,  ..., -0.0595, -1.3447, -0.1867],\n",
       "         [-2.3480, -0.0121,  0.6753,  ...,  1.1027, -1.0086,  1.4601]],\n",
       "\n",
       "        [[ 0.0962, -1.3897, -0.1672,  ...,  0.6478,  0.6750,  0.5745],\n",
       "         [-0.2334,  0.1191,  0.8040,  ..., -0.3837,  0.5423, -0.4347],\n",
       "         [ 0.2430,  0.2443,  0.1907,  ...,  0.7883,  0.1456, -2.1720],\n",
       "         ...,\n",
       "         [ 1.7798,  0.7202, -2.0171,  ...,  1.1554,  1.3218,  0.8707],\n",
       "         [ 0.0324, -1.4013, -0.4507,  ...,  1.7861,  0.6256,  0.0978],\n",
       "         [ 0.5600,  0.2158,  0.2156,  ...,  0.7398,  0.0917, -2.2671]]],\n",
       "       grad_fn=<NativeLayerNormBackward0>)"
      ]
     },
     "execution_count": 7,
     "metadata": {},
     "output_type": "execute_result"
    }
   ],
   "source": [
    "encoder_output_masked = transformer_encoder(\n",
    "    embedding_layer(masked_sequences),\n",
    "    src_key_padding_mask=mask\n",
    ")\n",
    "\n",
    "encoder_output_masked"
   ]
  },
  {
   "cell_type": "markdown",
   "id": "f00701d0-1bd0-4e1a-96aa-6c13a2feb2ff",
   "metadata": {},
   "source": [
    "The final output layer maps each token in each sequence to a set of logits (or probabilities) over the \"proper\" vocabulary (excluding special tokens), so it has tensors of shape `(batch_size, seq_len, hidden_dim)` as input and outputs tensors of shape `(batch_size, seq_len, vocab_size)`."
   ]
  },
  {
   "cell_type": "code",
   "execution_count": 8,
   "id": "8bc792ab-f465-4d8c-a722-8d31381bf3d7",
   "metadata": {},
   "outputs": [
    {
     "data": {
      "text/plain": [
       "(torch.Size([64, 256, 8]),\n",
       " torch.Size([64, 256, 8]),\n",
       " tensor([[1.0000, 1.0000, 1.0000,  ..., 1.0000, 1.0000, 1.0000],\n",
       "         [1.0000, 1.0000, 1.0000,  ..., 1.0000, 1.0000, 1.0000],\n",
       "         [1.0000, 1.0000, 1.0000,  ..., 1.0000, 1.0000, 1.0000],\n",
       "         ...,\n",
       "         [1.0000, 1.0000, 1.0000,  ..., 1.0000, 1.0000, 1.0000],\n",
       "         [1.0000, 1.0000, 1.0000,  ..., 1.0000, 1.0000, 1.0000],\n",
       "         [1.0000, 1.0000, 1.0000,  ..., 1.0000, 1.0000, 1.0000]],\n",
       "        grad_fn=<SumBackward1>))"
      ]
     },
     "execution_count": 8,
     "metadata": {},
     "output_type": "execute_result"
    }
   ],
   "source": [
    "output_layer = torch.nn.Linear(\n",
    "    in_features=hidden_dim,\n",
    "    out_features=q\n",
    ")\n",
    "\n",
    "output_logits = output_layer(encoder_output_masked)\n",
    "output_probs = torch.nn.Softmax(dim=-1)(output_logits)\n",
    "\n",
    "output_logits.shape, output_probs.shape, output_probs.sum(dim=-1)"
   ]
  },
  {
   "cell_type": "markdown",
   "id": "860b8c52-f1dc-48c2-86e1-88b259cc4631",
   "metadata": {},
   "source": [
    "Observation on the loss function (**should masking be considered at this stage?**):\n",
    "- We need the model (output layer) to output the predicted logits for each token in each sequence, i.e. a tensor of shape `(batch_size, seq_len, vocab_size)`, where the last dimension represents the logits over the vocabulary.\n",
    "- PyTorch's `CrossEntropyLoss` function accepts the logits and the true labels as the input, with the latter either as they are (class labels) or with one-hot encoding. In this case, if the predicted logits are put in the shape PyTorch expects (see point below), no one-hot encoding is needed for the targets.\n",
    "- Without any aggregation, we should have a value for the loss for each token in each sequence, which gives a tensor of loss values of shape `(batch_size, seq_len)`. PyTorch assumes that the predicted logits have shape `(batch_size, n_classes, [additional dims])`, so the last two dimensions of the output logits need to be switched.\n",
    "- **Guess:** probably the final loss should be computed only for the masked tokens, so we have to apply the mask to the loss tensor before aggregating the values."
   ]
  },
  {
   "cell_type": "code",
   "execution_count": 78,
   "id": "31168f66-4498-42b1-be41-6fbab17dd4b0",
   "metadata": {},
   "outputs": [
    {
     "data": {
      "text/plain": [
       "(tensor([[2.0316, 2.1514, 2.6266,  ..., 2.3532, 2.7209, 2.6511],\n",
       "         [2.4452, 1.9075, 2.0654,  ..., 2.7135, 1.5421, 2.3395],\n",
       "         [1.5090, 1.5543, 2.7127,  ..., 2.7202, 1.7771, 1.9542],\n",
       "         ...,\n",
       "         [1.5834, 2.4822, 2.6721,  ..., 2.6365, 1.6373, 1.5273],\n",
       "         [2.7293, 2.3288, 2.1734,  ..., 1.4918, 2.7459, 1.7663],\n",
       "         [2.6808, 2.4252, 2.3681,  ..., 1.8896, 2.4122, 2.3091]],\n",
       "        grad_fn=<ViewBackward0>),\n",
       " torch.Size([64, 256]))"
      ]
     },
     "execution_count": 78,
     "metadata": {},
     "output_type": "execute_result"
    }
   ],
   "source": [
    "loss_fn = torch.nn.CrossEntropyLoss(\n",
    "    reduction='none'  # Default: 'mean'.\n",
    ")\n",
    "\n",
    "loss_tensor = loss_fn(\n",
    "    torch.permute(output_logits, dims=(0, 2, 1)),\n",
    "    sequences\n",
    ")\n",
    "\n",
    "loss_tensor, loss_tensor.shape"
   ]
  },
  {
   "cell_type": "code",
   "execution_count": 99,
   "id": "df4d1a23-9207-41e1-899b-683b2cb9ffd9",
   "metadata": {},
   "outputs": [
    {
     "data": {
      "text/plain": [
       "tensor(2.1178, grad_fn=<MeanBackward0>)"
      ]
     },
     "execution_count": 99,
     "metadata": {},
     "output_type": "execute_result"
    }
   ],
   "source": [
    "# Use masking if predicting only for the masked tokens,\n",
    "# drop the mask (!) to predict for the whole sequence.\n",
    "loss = loss_tensor[mask].mean()\n",
    "\n",
    "loss"
   ]
  },
  {
   "cell_type": "markdown",
   "id": "59d961fb-3dbe-4ae3-b162-3f426ccdbc2a",
   "metadata": {},
   "source": [
    "## Building a model for MLM"
   ]
  },
  {
   "cell_type": "code",
   "execution_count": 10,
   "id": "2c4cab39-f67a-4d76-95c3-af012a01b1b6",
   "metadata": {},
   "outputs": [
    {
     "data": {
      "text/plain": [
       "tensor([[[0.1094, 0.1842, 0.1594,  ..., 0.0278, 0.1166, 0.1847],\n",
       "         [0.0845, 0.2108, 0.1485,  ..., 0.0202, 0.1471, 0.1551],\n",
       "         [0.2447, 0.0803, 0.0553,  ..., 0.0861, 0.2138, 0.0924],\n",
       "         ...,\n",
       "         [0.1541, 0.2808, 0.0412,  ..., 0.2141, 0.0656, 0.0513],\n",
       "         [0.2992, 0.0872, 0.1047,  ..., 0.0527, 0.0574, 0.1500],\n",
       "         [0.3020, 0.1788, 0.0449,  ..., 0.0920, 0.0599, 0.0727]],\n",
       "\n",
       "        [[0.1809, 0.0874, 0.1018,  ..., 0.0678, 0.0632, 0.2991],\n",
       "         [0.0956, 0.1852, 0.2221,  ..., 0.0157, 0.1728, 0.1224],\n",
       "         [0.1112, 0.1424, 0.0613,  ..., 0.0654, 0.1803, 0.1098],\n",
       "         ...,\n",
       "         [0.1823, 0.0813, 0.0844,  ..., 0.0697, 0.1160, 0.1943],\n",
       "         [0.2163, 0.0684, 0.1060,  ..., 0.0962, 0.0939, 0.1125],\n",
       "         [0.1620, 0.1368, 0.0704,  ..., 0.1239, 0.1167, 0.1024]],\n",
       "\n",
       "        [[0.1672, 0.0525, 0.1762,  ..., 0.0643, 0.2061, 0.1205],\n",
       "         [0.1483, 0.0446, 0.1251,  ..., 0.0762, 0.1920, 0.1334],\n",
       "         [0.2635, 0.0605, 0.0832,  ..., 0.0741, 0.1427, 0.1254],\n",
       "         ...,\n",
       "         [0.2235, 0.1206, 0.0622,  ..., 0.0477, 0.0650, 0.1310],\n",
       "         [0.1794, 0.2024, 0.0425,  ..., 0.0989, 0.0727, 0.0582],\n",
       "         [0.1442, 0.3104, 0.1235,  ..., 0.0388, 0.0719, 0.0940]],\n",
       "\n",
       "        ...,\n",
       "\n",
       "        [[0.1782, 0.0558, 0.1251,  ..., 0.1083, 0.1653, 0.1538],\n",
       "         [0.1891, 0.1042, 0.1057,  ..., 0.0515, 0.1142, 0.2259],\n",
       "         [0.2225, 0.1452, 0.0745,  ..., 0.0888, 0.1258, 0.1343],\n",
       "         ...,\n",
       "         [0.1526, 0.1625, 0.0359,  ..., 0.1244, 0.0762, 0.0541],\n",
       "         [0.2025, 0.0801, 0.1162,  ..., 0.1124, 0.1005, 0.1236],\n",
       "         [0.1215, 0.1269, 0.0862,  ..., 0.0969, 0.1199, 0.1189]],\n",
       "\n",
       "        [[0.2441, 0.0955, 0.0634,  ..., 0.0638, 0.1120, 0.1935],\n",
       "         [0.1328, 0.1787, 0.0550,  ..., 0.1541, 0.1435, 0.1418],\n",
       "         [0.1508, 0.2533, 0.0418,  ..., 0.1320, 0.1185, 0.0888],\n",
       "         ...,\n",
       "         [0.0936, 0.1612, 0.0708,  ..., 0.0939, 0.1835, 0.1316],\n",
       "         [0.2795, 0.0811, 0.0770,  ..., 0.0612, 0.0860, 0.0934],\n",
       "         [0.1163, 0.1098, 0.0908,  ..., 0.0875, 0.1153, 0.1394]],\n",
       "\n",
       "        [[0.2872, 0.1154, 0.0559,  ..., 0.1043, 0.1040, 0.1360],\n",
       "         [0.1318, 0.0790, 0.1371,  ..., 0.0869, 0.0748, 0.1892],\n",
       "         [0.1420, 0.0665, 0.0834,  ..., 0.0687, 0.2082, 0.1807],\n",
       "         ...,\n",
       "         [0.1157, 0.2313, 0.0324,  ..., 0.1066, 0.0620, 0.0936],\n",
       "         [0.2102, 0.2343, 0.0495,  ..., 0.2013, 0.0507, 0.0634],\n",
       "         [0.2187, 0.1745, 0.0555,  ..., 0.1102, 0.1035, 0.1177]]],\n",
       "       grad_fn=<SoftmaxBackward0>)"
      ]
     },
     "execution_count": 10,
     "metadata": {},
     "output_type": "execute_result"
    }
   ],
   "source": [
    "model = TransformerClassifier(\n",
    "    seq_len=seq_len,\n",
    "    embedding_size=hidden_dim,\n",
    "    n_tranformer_layers=1,\n",
    "    n_heads=1,\n",
    "    vocab_size=vocab.shape[0],\n",
    "    n_special_tokens=1,\n",
    "    embedding_agg=None,\n",
    "    decoder_hidden_sizes=[],\n",
    "    decoder_activation='identity',  # 'identity' --> Output logits\n",
    "    decoder_output_activation='softmax'\n",
    ")\n",
    "\n",
    "# Output shape: (batch_size, seq_len, vocab_size) (excluding\n",
    "# the special tokens from the vocabulary, which shouldn't be\n",
    "# predicted).\n",
    "model(masked_sequences, src_key_padding_mask=mask)"
   ]
  },
  {
   "cell_type": "code",
   "execution_count": 117,
   "id": "602e8654-4b7e-41f1-b7e1-58881a5eeee5",
   "metadata": {},
   "outputs": [
    {
     "data": {
      "text/plain": [
       "tensor(2.0824, grad_fn=<MeanBackward0>)"
      ]
     },
     "execution_count": 117,
     "metadata": {},
     "output_type": "execute_result"
    }
   ],
   "source": [
    "loss_fn = torch.nn.CrossEntropyLoss(\n",
    "    reduction='none'\n",
    ")\n",
    "\n",
    "# Use masking if predicting only for the masked tokens,\n",
    "# drop the mask (!) to predict for the whole sequence.\n",
    "loss = loss_fn(\n",
    "    torch.permute(model(masked_sequences, src_key_padding_mask=mask), (0, 2, 1)),\n",
    "    sequences\n",
    ")[mask].mean()\n",
    "\n",
    "loss"
   ]
  }
 ],
 "metadata": {
  "kernelspec": {
   "display_name": "Python 3 (ipykernel)",
   "language": "python",
   "name": "python3"
  },
  "language_info": {
   "codemirror_mode": {
    "name": "ipython",
    "version": 3
   },
   "file_extension": ".py",
   "mimetype": "text/x-python",
   "name": "python",
   "nbconvert_exporter": "python",
   "pygments_lexer": "ipython3",
   "version": "3.10.13"
  }
 },
 "nbformat": 4,
 "nbformat_minor": 5
}
