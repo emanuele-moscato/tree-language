{
 "cells": [
  {
   "cell_type": "markdown",
   "id": "0f553f64-2096-446d-932f-53c75c71eba1",
   "metadata": {},
   "source": [
    "# Data generation"
   ]
  },
  {
   "cell_type": "code",
   "execution_count": null,
   "id": "6cacfc4f-0768-4b0b-b77c-8a07096e0689",
   "metadata": {},
   "outputs": [],
   "source": [
    "import sys\n",
    "import numpy as np\n",
    "\n",
    "sys.path.append('../modules/')\n",
    "\n",
    "from tree_generation import calcrho_lognormal, calcpsum, genbc, gen_x\n",
    "\n",
    "%load_ext autoreload\n",
    "%autoreload 2"
   ]
  },
  {
   "cell_type": "code",
   "execution_count": null,
   "id": "62c1f8b1-5aa5-44e2-8274-d1d451d4f94d",
   "metadata": {},
   "outputs": [],
   "source": [
    "q = 4  # Size of the vocabulary.\n",
    "k = 5  # Number of levels of the tree (excluding the root).\n",
    "sigma = 4.  # Sigma of the normal distribution (for the log-normal).\n",
    "\n",
    "rho = calcrho_lognormal(q, sigma)  # Transition tensor.\n",
    "psum = calcpsum(q, rho)  # CDFs of the transition probabilities.\n",
    "\n",
    "n_trees = 1000\n",
    "\n",
    "roots = np.random.choice(range(q), n_trees, replace=True)\n",
    "\n",
    "trees = [\n",
    "    gen_x(k, q, psum, root)\n",
    "    for root in roots\n",
    "]\n",
    "\n",
    "leaves = np.array([\n",
    "    tree[-1, :]\n",
    "    for tree in trees\n",
    "])"
   ]
  }
 ],
 "metadata": {
  "kernelspec": {
   "display_name": "Python 3 (ipykernel)",
   "language": "python",
   "name": "python3"
  },
  "language_info": {
   "codemirror_mode": {
    "name": "ipython",
    "version": 3
   },
   "file_extension": ".py",
   "mimetype": "text/x-python",
   "name": "python",
   "nbconvert_exporter": "python",
   "pygments_lexer": "ipython3",
   "version": "3.10.13"
  }
 },
 "nbformat": 4,
 "nbformat_minor": 5
}
