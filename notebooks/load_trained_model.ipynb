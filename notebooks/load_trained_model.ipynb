{
 "cells": [
  {
   "cell_type": "code",
   "execution_count": null,
   "id": "ae9b6706-38b5-47af-bfa6-4ada77927832",
   "metadata": {},
   "outputs": [],
   "source": [
    "import os\n",
    "import sys\n",
    "import torch\n",
    "\n",
    "sys.path.append('../modules/')\n",
    "\n",
    "from pytorch_utilities import load_checkpoint\n",
    "from plotting import plot_training_history\n",
    "\n",
    "device = torch.device(\"cuda\" if torch.cuda.is_available() else \"cpu\")\n",
    "\n",
    "%load_ext autoreload\n",
    "%autoreload 2"
   ]
  },
  {
   "cell_type": "code",
   "execution_count": null,
   "id": "cc126f8a-42ef-4f48-a231-758453fc1767",
   "metadata": {},
   "outputs": [],
   "source": [
    "MODEL_DIR = '../models/trained_model_jerome/'\n",
    "\n",
    "MODEL_CHECKPOINT = 'classifier_test_small.pt'"
   ]
  },
  {
   "cell_type": "code",
   "execution_count": null,
   "id": "c7c5bd45-50f2-4c48-9b72-322f106cdcbb",
   "metadata": {},
   "outputs": [],
   "source": [
    "model, _, training_history = load_checkpoint(MODEL_DIR, MODEL_CHECKPOINT, device)\n",
    "\n",
    "plot_training_history(training_history)"
   ]
  },
  {
   "cell_type": "code",
   "execution_count": null,
   "id": "6e60a33a-a617-43b0-8487-ef669f82feda",
   "metadata": {},
   "outputs": [],
   "source": [
    "model"
   ]
  },
  {
   "cell_type": "code",
   "execution_count": null,
   "id": "3a44c0ee-d6a0-44c8-94c0-02361513066a",
   "metadata": {},
   "outputs": [],
   "source": [
    "test_data = torch.randint(0, 4, size=(2, 16), dtype=torch.int64).to(device=device)"
   ]
  },
  {
   "cell_type": "code",
   "execution_count": null,
   "id": "d0a75a00-dc70-4e03-a75d-74e51ee71166",
   "metadata": {},
   "outputs": [],
   "source": [
    "with torch.no_grad():\n",
    "    x = model.input_embedding(test_data)\n",
    "    x = model.positional_embedding(x)\n",
    "    x = model.transformer_encoder.layers[0](x)"
   ]
  },
  {
   "cell_type": "code",
   "execution_count": null,
   "id": "7af1bea8-c52c-4107-b1ec-c3810f3baac2",
   "metadata": {},
   "outputs": [],
   "source": [
    "x.shape"
   ]
  }
 ],
 "metadata": {
  "kernelspec": {
   "display_name": "Python 3 (ipykernel)",
   "language": "python",
   "name": "python3"
  },
  "language_info": {
   "codemirror_mode": {
    "name": "ipython",
    "version": 3
   },
   "file_extension": ".py",
   "mimetype": "text/x-python",
   "name": "python",
   "nbconvert_exporter": "python",
   "pygments_lexer": "ipython3",
   "version": "3.10.13"
  }
 },
 "nbformat": 4,
 "nbformat_minor": 5
}
