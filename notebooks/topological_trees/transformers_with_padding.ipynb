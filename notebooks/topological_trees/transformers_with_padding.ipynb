{
 "cells": [
  {
   "cell_type": "markdown",
   "id": "260d3b70-11ee-4af0-8ce4-246b819be891",
   "metadata": {},
   "source": [
    "# Use transformers with padded sequences"
   ]
  },
  {
   "cell_type": "code",
   "execution_count": null,
   "id": "39dec7c5-3c42-429f-8d3c-289b0e35809f",
   "metadata": {},
   "outputs": [],
   "source": [
    "import os\n",
    "import sys\n",
    "import pickle\n",
    "import numpy as np\n",
    "from sklearn.model_selection import train_test_split\n",
    "import torch\n",
    "\n",
    "sys.path.append('../../modules/')\n",
    "\n",
    "from logger_tree_language import get_logger\n",
    "from tree_generation_nontrivial_topology import pad_sequence\n",
    "from tree_language_vocab import TreeLanguageVocab\n",
    "from models import TransformerClassifier\n",
    "\n",
    "device = torch.device(\"cuda\" if torch.cuda.is_available() else \"cpu\")\n",
    "\n",
    "logger = get_logger('transformers_with_padding')\n",
    "\n",
    "%load_ext autoreload\n",
    "%autoreload 2"
   ]
  },
  {
   "cell_type": "markdown",
   "id": "f42e5bb1-4ebc-4883-a54c-bab28e5a1596",
   "metadata": {},
   "source": [
    "## Load and preprocess data"
   ]
  },
  {
   "cell_type": "code",
   "execution_count": null,
   "id": "108c9bf2-f356-4549-829a-7cd588e7ed9f",
   "metadata": {},
   "outputs": [],
   "source": [
    "DATA_PATH = '../../data/topological_tree_data/topological_tree_data_4_5_1.0_0.0.pkl'"
   ]
  },
  {
   "cell_type": "markdown",
   "id": "148817e3-d5d1-4387-b00c-3f0864dd15eb",
   "metadata": {},
   "source": [
    "Load data."
   ]
  },
  {
   "cell_type": "code",
   "execution_count": null,
   "id": "6ea86ccc-b554-4974-8f6a-025317d07d86",
   "metadata": {},
   "outputs": [],
   "source": [
    "q, l, sigma, epsilon = DATA_PATH.split('.pkl')[0].split('_')[-4:]\n",
    "\n",
    "q = int(q)\n",
    "l = int(l)\n",
    "sigma = float(sigma)\n",
    "epsilon = float(epsilon)\n",
    "max_seq_len = 2 ** l\n",
    "\n",
    "logger.info(f'Loading data from: {DATA_PATH}')\n",
    "logger.info(f'q = {q} | l = {l} | sigma = {sigma} | epsilon = {epsilon}')\n",
    "\n",
    "with open(DATA_PATH, 'rb') as f:\n",
    "    data = pickle.load(f)"
   ]
  },
  {
   "cell_type": "markdown",
   "id": "4c58da20-7677-4560-a5ab-1c4b329db7d1",
   "metadata": {},
   "source": [
    "Preprocess data and train-test split."
   ]
  },
  {
   "cell_type": "code",
   "execution_count": null,
   "id": "305723ee-1d58-4fb6-b537-c4ebe3d6b993",
   "metadata": {},
   "outputs": [],
   "source": [
    "vocab = TreeLanguageVocab(\n",
    "    n_symbols=q,\n",
    "    use_pad_token=True,\n",
    "    use_mask_token=True\n",
    ")\n",
    "\n",
    "roots = np.array([t[1] for t in data])\n",
    "leaves = np.vstack([\n",
    "    pad_sequence(t[0], max_seq_len, vocab('<pad>'))\n",
    "    for t in data\n",
    "])\n",
    "\n",
    "leaves = torch.from_numpy(leaves).to(device=device).to(dtype=torch.int64)\n",
    "roots = torch.from_numpy(roots).to(device=device).to(dtype=torch.int64)\n",
    "\n",
    "shuffled_indices = np.random.choice(range(leaves.shape[0]), leaves.shape[0], replace=False)\n",
    "\n",
    "n_samples_test = int(0.2 * leaves.shape[0])\n",
    "\n",
    "leaves_train = leaves[:-n_samples_test, ...]\n",
    "leaves_test = leaves[-n_samples_test:, ...]\n",
    "\n",
    "roots_train = roots[:-n_samples_test, ...]\n",
    "roots_test = roots[-n_samples_test:, ...]\n",
    "\n",
    "leaves_train.shape, roots_train.shape, leaves_test.shape, roots_test.shape"
   ]
  },
  {
   "cell_type": "markdown",
   "id": "3c64a73d-9d53-4de5-b687-35db829dae96",
   "metadata": {},
   "source": [
    "## Masked language modelling"
   ]
  },
  {
   "cell_type": "markdown",
   "id": "a9e2a182-ad0c-4fd7-9d0a-f1dae1da04ae",
   "metadata": {},
   "source": [
    "MLM with padded sequences works as with \"all complete\" sequences, except for the facts that:\n",
    "- At inference time we need to tell the model which tokens are the padded in each sequence (via a mask).\n",
    "- We should only mask tokens that are NOT padded.\n",
    "\n",
    "**Notes:**\n",
    "- When using padded sequences, a mask **MUST** be passed to the model during its forward pass to identify all the padded tokens in all the sequences in the batch.\n",
    "- The mask must have the same shape as the data used in the forward pass, `(batch_size, max_seq_len)`, and must be boolean with `True` in the positions corresponding to the padding tokens and `False` everywhere else.\n",
    "- The mask must be passed as the `src_key_padding_mask` of the model's foward pass (`__call__` method)."
   ]
  },
  {
   "cell_type": "code",
   "execution_count": null,
   "id": "37eb11f4-dfba-4dea-9815-800ccd3ce710",
   "metadata": {},
   "outputs": [],
   "source": [
    "embedding_size = 128\n",
    "vocab_size = len(vocab)\n",
    "\n",
    "# Instantiate model.\n",
    "model_params = dict(\n",
    "    seq_len=max_seq_len,\n",
    "    embedding_size=embedding_size,\n",
    "    n_tranformer_layers=2,  # Good: 4\n",
    "    n_heads=1,\n",
    "    vocab_size=vocab_size,\n",
    "    encoder_dim_feedforward=2 * embedding_size,\n",
    "    positional_encoding=True,\n",
    "    n_special_tokens=len(vocab.special_symbols),  # We assume the special tokens correspond to the last `n_special_tokens` indices.\n",
    "    embedding_agg=None,\n",
    "    decoder_hidden_sizes=[64],  # Good: [64]\n",
    "    decoder_activation='relu',  # Good: 'relu'\n",
    "    decoder_output_activation='identity'\n",
    ")\n",
    "\n",
    "model = TransformerClassifier(\n",
    "    **model_params\n",
    ").to(device=device)"
   ]
  },
  {
   "cell_type": "code",
   "execution_count": null,
   "id": "355fb158-4625-4d89-b918-36fa815f8404",
   "metadata": {},
   "outputs": [],
   "source": [
    "# Test of a forward pass with masking on tha padded positions.\n",
    "batch_size = 32\n",
    "\n",
    "batch = leaves_test[:batch_size, ...]\n",
    "batch_src_key_padding_mask = (batch == vocab('<pad>'))\n",
    "\n",
    "targets = roots_test[:batch_size]\n",
    "\n",
    "model(batch, src_key_padding_mask=batch_src_key_padding_mask).detach()"
   ]
  },
  {
   "cell_type": "markdown",
   "id": "dd5a2cf7-aada-4813-8217-bd3b069e56a2",
   "metadata": {},
   "source": [
    "**Masked language modelling:** just add the usual MLM procedure on top of the previous one."
   ]
  },
  {
   "cell_type": "code",
   "execution_count": null,
   "id": "a5d57b21-d823-4270-8d01-384c20b57334",
   "metadata": {},
   "outputs": [],
   "source": [
    "from masked_language_modeling import mask_sequences, compute_masked_accuracy"
   ]
  },
  {
   "cell_type": "code",
   "execution_count": null,
   "id": "8bd43587-3b7b-4da3-ac75-d9e04da00863",
   "metadata": {},
   "outputs": [],
   "source": [
    "masked_batch, masked_symbols_mask = mask_sequences(\n",
    "    sequences=batch,\n",
    "    mask_rate=0.1,\n",
    "    reshaped_mask_idx=(torch.ones(batch.shape, dtype=batch.dtype) * vocab('<mask>')).to(device=device),\n",
    "    device=device,\n",
    "    src_key_padding_mask=batch_src_key_padding_mask,\n",
    "    single_mask=False\n",
    ")\n",
    "\n",
    "# Note: having a fraction of masked symbol per sequence close to `mask_rate` is\n",
    "#       more difficult if padded sequences are used, as effectively the sequences\n",
    "#       we can actually mask are shorted than `max_seq_len`.\n",
    "(masked_batch == vocab('<mask>')).to(dtype=torch.float32).mean(dim=-1).mean().detach()"
   ]
  },
  {
   "cell_type": "code",
   "execution_count": null,
   "id": "c368dc1a-6b6a-42b6-b17e-0c859a6f48f0",
   "metadata": {},
   "outputs": [],
   "source": [
    "masked_batch"
   ]
  },
  {
   "cell_type": "code",
   "execution_count": null,
   "id": "7f9a179a-f987-44dd-b0a5-17bd6000d10e",
   "metadata": {},
   "outputs": [],
   "source": [
    "# MLM inference.\n",
    "masked_pred = model(\n",
    "    masked_batch,\n",
    "    src_key_padding_mask=batch_src_key_padding_mask\n",
    ").detach()\n",
    "\n",
    "masked_pred"
   ]
  },
  {
   "cell_type": "code",
   "execution_count": null,
   "id": "6ee589c2-96e5-4cb8-ac73-2ed1261ff896",
   "metadata": {},
   "outputs": [],
   "source": [
    "loss_fn = torch.nn.CrossEntropyLoss(\n",
    "    reduction='none'\n",
    ")\n",
    "\n",
    "loss = loss_fn(\n",
    "    torch.permute(\n",
    "        masked_pred,\n",
    "        (0, 2, 1)\n",
    "    ),\n",
    "    batch\n",
    ")[masked_symbols_mask].mean().detach().cpu().numpy()\n",
    "\n",
    "masked_accuracy = compute_masked_accuracy(\n",
    "    masked_pred,\n",
    "    batch,\n",
    "    masked_symbols_mask\n",
    ").detach().cpu().numpy()\n",
    "\n",
    "print(f'Loss: {loss} | Masked accuracy: {masked_accuracy}')"
   ]
  },
  {
   "cell_type": "markdown",
   "id": "5466b152-8766-4bb0-9f20-a22983baee40",
   "metadata": {},
   "source": [
    "## Root inference"
   ]
  },
  {
   "cell_type": "markdown",
   "id": "ec636c13-14c2-4652-809b-474af369c128",
   "metadata": {},
   "source": [
    "For root inference with padded sequences, we just need to tell the model which tokens are padded at inference time via a mask."
   ]
  },
  {
   "cell_type": "code",
   "execution_count": null,
   "id": "74557943-3259-419e-9f8b-4e53a925eb9c",
   "metadata": {},
   "outputs": [],
   "source": [
    "from model_evaluation_tree_language import compute_accuracy"
   ]
  },
  {
   "cell_type": "code",
   "execution_count": null,
   "id": "ab0c2135-e52d-4869-8158-1f260194ec05",
   "metadata": {},
   "outputs": [],
   "source": [
    "embedding_size = 128\n",
    "vocab_size = len(vocab)\n",
    "\n",
    "# Instantiate model.\n",
    "root_inference_model_params = dict(\n",
    "    seq_len=max_seq_len,\n",
    "    embedding_size=embedding_size,\n",
    "    n_tranformer_layers=2,  # Good: 4\n",
    "    n_heads=1,\n",
    "    vocab_size=vocab_size,\n",
    "    encoder_dim_feedforward=2 * embedding_size,\n",
    "    positional_encoding=True,\n",
    "    n_special_tokens=len(vocab.special_symbols),  # We assume the special tokens correspond to the last `n_special_tokens` indices.\n",
    "    embedding_agg='flatten',\n",
    "    decoder_hidden_sizes=[64],  # Good: [64]\n",
    "    decoder_activation='relu',  # Good: 'relu'\n",
    "    decoder_output_activation='identity'\n",
    ")\n",
    "\n",
    "root_inference_model = TransformerClassifier(\n",
    "    **root_inference_model_params\n",
    ").to(device=device)"
   ]
  },
  {
   "cell_type": "code",
   "execution_count": null,
   "id": "ac861e17-df8a-438e-a437-5f57d6494d24",
   "metadata": {},
   "outputs": [],
   "source": [
    "classif_pred = root_inference_model(\n",
    "    batch,\n",
    "    src_key_padding_mask=batch_src_key_padding_mask\n",
    ").detach()\n",
    "\n",
    "classif_pred"
   ]
  },
  {
   "cell_type": "code",
   "execution_count": null,
   "id": "66818595-5d1d-4088-b899-74468abcc98b",
   "metadata": {},
   "outputs": [],
   "source": [
    "classification_loss_fn = torch.nn.CrossEntropyLoss()\n",
    "\n",
    "# Can work with targets that are either one-hot encoded\n",
    "# or with their natural encoding.\n",
    "classification_loss = classification_loss_fn(\n",
    "    classif_pred,\n",
    "    torch.nn.functional.one_hot(targets, num_classes=q).to(dtype=torch.float32)\n",
    ").detach()\n",
    "\n",
    "classification_accuracy = compute_accuracy(\n",
    "    classif_pred,\n",
    "    torch.nn.functional.one_hot(targets, num_classes=q).to(dtype=torch.float32)\n",
    ").detach()\n",
    "\n",
    "print(\n",
    "    f\"Classification loss: {classification_loss}\"\n",
    "    f\" | Classification accuracy: {classification_accuracy}\"\n",
    ")"
   ]
  }
 ],
 "metadata": {
  "kernelspec": {
   "display_name": "Python 3 (ipykernel)",
   "language": "python",
   "name": "python3"
  },
  "language_info": {
   "codemirror_mode": {
    "name": "ipython",
    "version": 3
   },
   "file_extension": ".py",
   "mimetype": "text/x-python",
   "name": "python",
   "nbconvert_exporter": "python",
   "pygments_lexer": "ipython3",
   "version": "3.10.13"
  }
 },
 "nbformat": 4,
 "nbformat_minor": 5
}
