{
 "cells": [
  {
   "cell_type": "markdown",
   "id": "260d3b70-11ee-4af0-8ce4-246b819be891",
   "metadata": {},
   "source": [
    "# Use transformers with padded sequences"
   ]
  },
  {
   "cell_type": "code",
   "execution_count": 1,
   "id": "39dec7c5-3c42-429f-8d3c-289b0e35809f",
   "metadata": {},
   "outputs": [],
   "source": [
    "import os\n",
    "import sys\n",
    "import pickle\n",
    "import numpy as np\n",
    "from sklearn.model_selection import train_test_split\n",
    "import torch\n",
    "\n",
    "sys.path.append('../../modules/')\n",
    "\n",
    "from logger_tree_language import get_logger\n",
    "from tree_generation_nontrivial_topology import pad_sequence\n",
    "from tree_language_vocab import TreeLanguageVocab\n",
    "from models import TransformerClassifier\n",
    "\n",
    "device = torch.device(\"cuda\" if torch.cuda.is_available() else \"cpu\")\n",
    "\n",
    "logger = get_logger('transformers_with_padding')\n",
    "\n",
    "%load_ext autoreload\n",
    "%autoreload 2"
   ]
  },
  {
   "cell_type": "markdown",
   "id": "f42e5bb1-4ebc-4883-a54c-bab28e5a1596",
   "metadata": {},
   "source": [
    "## Load and preprocess data"
   ]
  },
  {
   "cell_type": "code",
   "execution_count": 2,
   "id": "108c9bf2-f356-4549-829a-7cd588e7ed9f",
   "metadata": {},
   "outputs": [],
   "source": [
    "DATA_PATH = '../../data/topological_tree_data/topological_tree_data_4_5_1.0_0.0.pkl'"
   ]
  },
  {
   "cell_type": "markdown",
   "id": "148817e3-d5d1-4387-b00c-3f0864dd15eb",
   "metadata": {},
   "source": [
    "Load data."
   ]
  },
  {
   "cell_type": "code",
   "execution_count": 3,
   "id": "6ea86ccc-b554-4974-8f6a-025317d07d86",
   "metadata": {},
   "outputs": [
    {
     "name": "stderr",
     "output_type": "stream",
     "text": [
      "2024-05-30 18:31:25,080 - transformers_with_padding - INFO - Loading data from: ../../data/topological_tree_data/topological_tree_data_4_5_1.0_0.0.pkl\n",
      "2024-05-30 18:31:25,080 - transformers_with_padding - INFO - q = 4 | l = 5 | sigma = 1.0 | epsilon = 0.0\n"
     ]
    }
   ],
   "source": [
    "q, l, sigma, epsilon = DATA_PATH.split('.pkl')[0].split('_')[-4:]\n",
    "\n",
    "q = int(q)\n",
    "l = int(l)\n",
    "sigma = float(sigma)\n",
    "epsilon = float(epsilon)\n",
    "max_seq_len = 2 ** l\n",
    "\n",
    "logger.info(f'Loading data from: {DATA_PATH}')\n",
    "logger.info(f'q = {q} | l = {l} | sigma = {sigma} | epsilon = {epsilon}')\n",
    "\n",
    "with open(DATA_PATH, 'rb') as f:\n",
    "    data = pickle.load(f)"
   ]
  },
  {
   "cell_type": "markdown",
   "id": "4c58da20-7677-4560-a5ab-1c4b329db7d1",
   "metadata": {},
   "source": [
    "Preprocess data and train-test split."
   ]
  },
  {
   "cell_type": "code",
   "execution_count": 4,
   "id": "305723ee-1d58-4fb6-b537-c4ebe3d6b993",
   "metadata": {},
   "outputs": [
    {
     "data": {
      "text/plain": [
       "(torch.Size([80000, 32]),\n",
       " torch.Size([80000]),\n",
       " torch.Size([20000, 32]),\n",
       " torch.Size([20000]))"
      ]
     },
     "execution_count": 4,
     "metadata": {},
     "output_type": "execute_result"
    }
   ],
   "source": [
    "vocab = TreeLanguageVocab(\n",
    "    n_symbols=q,\n",
    "    use_pad_token=True\n",
    ")\n",
    "\n",
    "roots = np.array([t[1] for t in data])\n",
    "leaves = np.vstack([\n",
    "    pad_sequence(t[0], max_seq_len, vocab('<pad>'))\n",
    "    for t in data\n",
    "])\n",
    "\n",
    "leaves = torch.from_numpy(leaves).to(device=device).to(dtype=torch.int64)\n",
    "roots = torch.from_numpy(roots).to(device=device).to(dtype=torch.int64)\n",
    "\n",
    "shuffled_indices = np.random.choice(range(leaves.shape[0]), leaves.shape[0], replace=False)\n",
    "\n",
    "n_samples_test = int(0.2 * leaves.shape[0])\n",
    "\n",
    "leaves_train = leaves[:-n_samples_test, ...]\n",
    "leaves_test = leaves[-n_samples_test:, ...]\n",
    "\n",
    "roots_train = roots[:-n_samples_test, ...]\n",
    "roots_test = roots[-n_samples_test:, ...]\n",
    "\n",
    "leaves_train.shape, roots_train.shape, leaves_test.shape, roots_test.shape"
   ]
  },
  {
   "cell_type": "markdown",
   "id": "3c64a73d-9d53-4de5-b687-35db829dae96",
   "metadata": {},
   "source": [
    "## Modelling"
   ]
  },
  {
   "cell_type": "markdown",
   "id": "959df214-f780-4224-8cb1-7d38ebc8bea3",
   "metadata": {},
   "source": [
    "**WARNING:** for now we're just performing a test similar to masked language modelling, but without any actual masking, just to see that everything works."
   ]
  },
  {
   "cell_type": "code",
   "execution_count": 5,
   "id": "37eb11f4-dfba-4dea-9815-800ccd3ce710",
   "metadata": {},
   "outputs": [
    {
     "name": "stderr",
     "output_type": "stream",
     "text": [
      "/home/moscato/miniconda3/envs/tree-language/lib/python3.10/site-packages/torch/nn/modules/transformer.py:286: UserWarning: enable_nested_tensor is True, but self.use_nested_tensor is False because encoder_layer.self_attn.num_heads is odd\n",
      "  warnings.warn(f\"enable_nested_tensor is True, but self.use_nested_tensor is False because {why_not_sparsity_fast_path}\")\n"
     ]
    }
   ],
   "source": [
    "embedding_size = 128\n",
    "vocab_size = len(vocab)\n",
    "\n",
    "# Instantiate model.\n",
    "model_params = dict(\n",
    "    seq_len=max_seq_len,\n",
    "    embedding_size=embedding_size,\n",
    "    n_tranformer_layers=2,  # Good: 4\n",
    "    n_heads=1,\n",
    "    vocab_size=vocab_size,\n",
    "    encoder_dim_feedforward=2 * embedding_size,\n",
    "    positional_encoding=True,\n",
    "    n_special_tokens=len(vocab.special_tokens),  # We assume the special tokens correspond to the last `n_special_tokens` indices.\n",
    "    embedding_agg=None,\n",
    "    decoder_hidden_sizes=[64],  # Good: [64]\n",
    "    decoder_activation='relu',  # Good: 'relu'\n",
    "    decoder_output_activation='identity'\n",
    ")\n",
    "\n",
    "model = TransformerClassifier(\n",
    "    **model_params\n",
    ").to(device=device)"
   ]
  },
  {
   "cell_type": "code",
   "execution_count": 51,
   "id": "355fb158-4625-4d89-b918-36fa815f8404",
   "metadata": {},
   "outputs": [
    {
     "data": {
      "text/plain": [
       "tensor([[[-1.3238e-01,  1.9102e-02,  2.4874e-01,  1.1229e-01],\n",
       "         [-7.1113e-02,  2.3200e-01,  1.9844e-01,  6.2113e-02],\n",
       "         [ 1.3027e-01,  2.9371e-01,  1.4724e-01, -1.7555e-02],\n",
       "         ...,\n",
       "         [-2.2940e-01,  2.1863e-01,  2.1749e-02,  4.1221e-01],\n",
       "         [-2.2846e-01, -2.8933e-02,  1.2085e-01,  1.8709e-01],\n",
       "         [ 7.7312e-02, -4.8308e-02,  3.2073e-02,  7.1469e-02]],\n",
       "\n",
       "        [[-8.7766e-02,  2.5789e-01, -1.2684e-02,  1.2546e-01],\n",
       "         [-1.5359e-01, -8.1707e-02,  2.2614e-01,  2.3379e-01],\n",
       "         [-7.7169e-02,  1.6883e-01, -2.7284e-02, -1.2796e-01],\n",
       "         ...,\n",
       "         [-1.7184e-01,  9.0511e-02, -4.4769e-02,  5.2114e-02],\n",
       "         [ 6.7503e-02, -2.5153e-02,  9.7739e-02,  3.6951e-02],\n",
       "         [ 1.0356e-01,  2.4701e-02,  1.0044e-01, -2.6803e-02]],\n",
       "\n",
       "        [[-1.0182e-01,  2.4339e-01,  1.2259e-01, -1.3709e-05],\n",
       "         [-1.0311e-01,  1.6431e-01,  2.1993e-01,  1.2202e-01],\n",
       "         [ 3.1087e-02,  2.9377e-01, -4.9692e-02,  2.1498e-01],\n",
       "         ...,\n",
       "         [ 3.8508e-02,  1.4262e-01,  8.0082e-02, -6.7950e-03],\n",
       "         [ 3.7451e-02,  9.2151e-03,  1.9840e-02, -6.3344e-02],\n",
       "         [ 1.3888e-01, -1.8327e-02,  1.1905e-02, -6.5871e-02]],\n",
       "\n",
       "        ...,\n",
       "\n",
       "        [[ 8.8875e-02,  2.3339e-01, -1.4582e-01,  3.2116e-01],\n",
       "         [-1.1109e-02, -1.2099e-01,  2.0569e-01,  1.0853e-02],\n",
       "         [-1.1040e-01, -1.7225e-01,  2.8498e-01,  2.5322e-01],\n",
       "         ...,\n",
       "         [ 6.4158e-02,  8.7993e-02,  7.6942e-02, -7.7043e-02],\n",
       "         [-2.8144e-02, -9.4359e-02,  1.5126e-01, -1.0121e-01],\n",
       "         [ 2.1553e-01,  1.9758e-02,  5.2655e-02, -2.8067e-02]],\n",
       "\n",
       "        [[-5.5309e-02, -1.8962e-02,  1.2563e-01,  4.5761e-02],\n",
       "         [ 3.0091e-02,  1.7867e-01,  5.9132e-02,  5.9913e-02],\n",
       "         [-1.1062e-01,  3.0873e-01,  2.4062e-01,  3.8317e-02],\n",
       "         ...,\n",
       "         [ 4.3964e-03,  1.4229e-01,  1.2473e-01, -6.4686e-02],\n",
       "         [ 1.2902e-02, -4.2540e-02,  1.2431e-01,  4.6135e-02],\n",
       "         [ 4.6822e-02, -3.4206e-02,  5.9428e-02, -7.2171e-02]],\n",
       "\n",
       "        [[ 9.5239e-02,  2.3246e-01, -9.3815e-02,  2.8780e-01],\n",
       "         [-2.2687e-01,  3.3144e-01,  7.3519e-02,  2.6308e-01],\n",
       "         [ 3.8331e-02, -9.0918e-02,  2.2378e-01,  2.6891e-01],\n",
       "         ...,\n",
       "         [ 7.7208e-02,  2.6539e-03,  1.4170e-01, -7.1088e-02],\n",
       "         [ 8.6046e-02, -3.9140e-02,  3.5540e-02, -3.5925e-02],\n",
       "         [ 1.3582e-01, -7.5289e-03,  2.7855e-01, -2.8620e-02]]],\n",
       "       device='cuda:0')"
      ]
     },
     "execution_count": 51,
     "metadata": {},
     "output_type": "execute_result"
    }
   ],
   "source": [
    "# Test of a forward pass with masking on tha padded positions.\n",
    "batch_size = 32\n",
    "\n",
    "batch = leaves_test[:batch_size, ...]\n",
    "batch_src_key_padding_mask = (batch == vocab('<pad>'))\n",
    "\n",
    "model(batch, src_key_padding_mask=batch_src_key_padding_mask).detach()"
   ]
  }
 ],
 "metadata": {
  "kernelspec": {
   "display_name": "Python 3 (ipykernel)",
   "language": "python",
   "name": "python3"
  },
  "language_info": {
   "codemirror_mode": {
    "name": "ipython",
    "version": 3
   },
   "file_extension": ".py",
   "mimetype": "text/x-python",
   "name": "python",
   "nbconvert_exporter": "python",
   "pygments_lexer": "ipython3",
   "version": "3.10.13"
  }
 },
 "nbformat": 4,
 "nbformat_minor": 5
}
