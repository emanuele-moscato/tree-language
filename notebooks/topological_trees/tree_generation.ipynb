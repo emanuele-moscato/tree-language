{
 "cells": [
  {
   "cell_type": "markdown",
   "id": "0cd61217-cd2b-4d95-8f7e-974bc9f4e5a4",
   "metadata": {},
   "source": [
    "# Generation of \"topological\" trees"
   ]
  },
  {
   "cell_type": "code",
   "execution_count": 51,
   "id": "25cfa5dc-c827-41c0-97a2-b7af0da124ec",
   "metadata": {},
   "outputs": [
    {
     "name": "stdout",
     "output_type": "stream",
     "text": [
      "The autoreload extension is already loaded. To reload it, use:\n",
      "  %reload_ext autoreload\n"
     ]
    }
   ],
   "source": [
    "import sys\n",
    "import numpy as np\n",
    "\n",
    "sys.path.append('../../modules/')\n",
    "\n",
    "from tree_generation_nontrivial_topology import (generate_grammar, generate_pattern,\n",
    "    pad_sequence)\n",
    "from tree_language_vocab import TreeLanguageVocab\n",
    "\n",
    "%load_ext autoreload\n",
    "%autoreload 2"
   ]
  },
  {
   "cell_type": "markdown",
   "id": "29edba3c-dc1f-4ee3-a0a2-cdd7d1f30c2d",
   "metadata": {},
   "source": [
    "Generation of a grammar and corresponding samples (`(sequence, root)` pairs)."
   ]
  },
  {
   "cell_type": "code",
   "execution_count": 80,
   "id": "9d9deb6c-a717-4f58-b2e4-f6a3e84f7ff4",
   "metadata": {},
   "outputs": [],
   "source": [
    "q = 4\n",
    "sigma = 1.\n",
    "epsilon = 0.\n",
    "rho_intermediate=0.1\n",
    "max_depth = 5\n",
    "l = max_depth\n",
    "max_seq_len = 2 ** max_depth\n",
    "\n",
    "grammar = generate_grammar(\n",
    "    Q=q,\n",
    "    sigma=sigma,\n",
    "    epsilon=epsilon,\n",
    "    rho_intermediate=rho_intermediate,\n",
    "    max_depth=max_depth\n",
    ")\n",
    "\n",
    "# Generate sequences given a grammar.\n",
    "n_samples = 100000\n",
    "\n",
    "# Structure: [(leaves, roots)]\n",
    "data = [generate_pattern(grammar) for _ in range(n_samples)]\n",
    "data = [[t[0].tolist(), t[1]] for t in data]"
   ]
  },
  {
   "cell_type": "code",
   "execution_count": 102,
   "id": "29b46f6d-15b3-4314-9cc0-eb54fe49e73c",
   "metadata": {},
   "outputs": [],
   "source": [
    "# # Save data.\n",
    "# import pickle\n",
    "\n",
    "# with open(f'../../data/topological_tree_data/topological_tree_data_{q}_{l}_{sigma}_{epsilon}.pkl', 'wb') as f:\n",
    "#     pickle.dump(data, f)"
   ]
  },
  {
   "cell_type": "markdown",
   "id": "7ea310a0-2998-44d3-a60b-f3ece1bee4c3",
   "metadata": {},
   "source": [
    "Sequence padding with the `<pad>` token."
   ]
  },
  {
   "cell_type": "code",
   "execution_count": 79,
   "id": "07885e2f-81bf-45e0-986f-356dc72f3941",
   "metadata": {},
   "outputs": [],
   "source": [
    "vocab = TreeLanguageVocab(\n",
    "    n_symbols=q,\n",
    "    use_mask_token=False,\n",
    "    use_cls_token=False,\n",
    "    use_pad_token=True\n",
    ")\n",
    "\n",
    "roots = [t[1] for t in data]\n",
    "leaves = np.vstack([\n",
    "    pad_sequence(t[0], max_seq_len, vocab('<pad>'))\n",
    "    for t in data\n",
    "])"
   ]
  }
 ],
 "metadata": {
  "kernelspec": {
   "display_name": "Python 3 (ipykernel)",
   "language": "python",
   "name": "python3"
  },
  "language_info": {
   "codemirror_mode": {
    "name": "ipython",
    "version": 3
   },
   "file_extension": ".py",
   "mimetype": "text/x-python",
   "name": "python",
   "nbconvert_exporter": "python",
   "pygments_lexer": "ipython3",
   "version": "3.10.13"
  }
 },
 "nbformat": 4,
 "nbformat_minor": 5
}
