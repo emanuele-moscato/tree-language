{
 "cells": [
  {
   "cell_type": "markdown",
   "id": "0cd61217-cd2b-4d95-8f7e-974bc9f4e5a4",
   "metadata": {},
   "source": [
    "# Generation of \"topological\" trees"
   ]
  },
  {
   "cell_type": "code",
   "execution_count": null,
   "id": "25cfa5dc-c827-41c0-97a2-b7af0da124ec",
   "metadata": {},
   "outputs": [],
   "source": [
    "import sys\n",
    "import numpy as np\n",
    "\n",
    "sys.path.append('../../modules/')\n",
    "\n",
    "from tree_generation_nontrivial_topology import generate_grammar, generate_pattern"
   ]
  },
  {
   "cell_type": "code",
   "execution_count": null,
   "id": "9d9deb6c-a717-4f58-b2e4-f6a3e84f7ff4",
   "metadata": {},
   "outputs": [],
   "source": [
    "grammar = generate_grammar(\n",
    "    Q=4,\n",
    "    sigma=1.,\n",
    "    epsilon=0.,\n",
    "    rho_intermediate=0.1,\n",
    "    max_depth=5\n",
    ")\n",
    "\n",
    "leaves, root = generate_pattern(grammar)\n",
    "\n",
    "leaves"
   ]
  }
 ],
 "metadata": {
  "kernelspec": {
   "display_name": "Python 3 (ipykernel)",
   "language": "python",
   "name": "python3"
  },
  "language_info": {
   "codemirror_mode": {
    "name": "ipython",
    "version": 3
   },
   "file_extension": ".py",
   "mimetype": "text/x-python",
   "name": "python",
   "nbconvert_exporter": "python",
   "pygments_lexer": "ipython3",
   "version": "3.10.13"
  }
 },
 "nbformat": 4,
 "nbformat_minor": 5
}
