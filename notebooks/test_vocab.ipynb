{
 "cells": [
  {
   "cell_type": "markdown",
   "id": "26d72160-7276-455e-bbb7-5e350e087c3d",
   "metadata": {},
   "source": [
    "# Test vocabulary object"
   ]
  },
  {
   "cell_type": "code",
   "execution_count": null,
   "id": "6ddbee83-2284-4ccf-abe0-f4bcd6a3c95a",
   "metadata": {},
   "outputs": [],
   "source": [
    "import sys\n",
    "\n",
    "sys.path.append('../modules/')\n",
    "\n",
    "from tree_language_vocab import TreeLanguageVocab\n",
    "\n",
    "%load_ext autoreload\n",
    "%autoreload 2"
   ]
  },
  {
   "cell_type": "code",
   "execution_count": null,
   "id": "d5e1ba0e-ea78-4c34-b591-971bb3372182",
   "metadata": {},
   "outputs": [],
   "source": [
    "q = 4\n",
    "\n",
    "vocab = TreeLanguageVocab(n_symbols=4, use_mask_token=True, use_cls_token=True)\n",
    "\n",
    "len(vocab)"
   ]
  },
  {
   "cell_type": "code",
   "execution_count": null,
   "id": "2fe07271-9499-4988-98b0-28654c63b58f",
   "metadata": {},
   "outputs": [],
   "source": [
    "vocab.symbols_dict"
   ]
  },
  {
   "cell_type": "code",
   "execution_count": null,
   "id": "7254a8ba-6dd8-4ce3-90a4-a8ca15868624",
   "metadata": {},
   "outputs": [],
   "source": [
    "vocab.sequence_to_tokens(['<cls>', '2', '3', '1', '<mask>'])"
   ]
  },
  {
   "cell_type": "code",
   "execution_count": null,
   "id": "d5026fbf-2b3f-411f-9466-d3c1091af7a3",
   "metadata": {},
   "outputs": [],
   "source": [
    "vocab.tokens_to_sequence([3, 5, 4, 1, 1, 2])"
   ]
  }
 ],
 "metadata": {
  "kernelspec": {
   "display_name": "Python 3 (ipykernel)",
   "language": "python",
   "name": "python3"
  },
  "language_info": {
   "codemirror_mode": {
    "name": "ipython",
    "version": 3
   },
   "file_extension": ".py",
   "mimetype": "text/x-python",
   "name": "python",
   "nbconvert_exporter": "python",
   "pygments_lexer": "ipython3",
   "version": "3.10.13"
  }
 },
 "nbformat": 4,
 "nbformat_minor": 5
}
