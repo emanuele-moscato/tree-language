{
 "cells": [
  {
   "cell_type": "markdown",
   "id": "53cd6265-b23d-4ea2-ab3f-84400e47746e",
   "metadata": {},
   "source": [
    "# Transformer test"
   ]
  },
  {
   "cell_type": "markdown",
   "id": "8ff34921-ffc5-43e0-aa55-f14540a32d21",
   "metadata": {},
   "source": [
    "__Obejctive:__ test a transformer model on the root inference problem."
   ]
  },
  {
   "cell_type": "code",
   "execution_count": 1,
   "id": "17fac171-6df0-42dc-bd35-ae959e8e8e39",
   "metadata": {
    "tags": []
   },
   "outputs": [
    {
     "name": "stdout",
     "output_type": "stream",
     "text": [
      "Running on device: cuda\n"
     ]
    }
   ],
   "source": [
    "import numpy as np \n",
    "from sklearn.model_selection import train_test_split\n",
    "from sklearn.naive_bayes import GaussianNB\n",
    "import torch\n",
    "from torch import nn\n",
    "\n",
    "import sys\n",
    "\n",
    "sys.path.append('../modules/')\n",
    "\n",
    "from training import train_model\n",
    "from plotting import plot_training_history\n",
    "from models import TransformerClassifier\n",
    "\n",
    "device = torch.device(\"cuda\" if torch.cuda.is_available() else \"cpu\")\n",
    "\n",
    "print('Running on device:', device)\n",
    "\n",
    "%load_ext autoreload\n",
    "%autoreload 2"
   ]
  },
  {
   "cell_type": "code",
   "execution_count": 2,
   "id": "3ed9b80e-89c4-4327-a013-914b8a3fdca5",
   "metadata": {
    "tags": []
   },
   "outputs": [],
   "source": [
    "# Naive Bayes benchmark\n",
    "def get_NB_accuracy(x0s,xis_int,train_frac):\n",
    "    xi_train, xi_test, x0_train, x0_test = train_test_split(xis_int.T, x0s, test_size=1-train_frac, random_state=0)\n",
    "    gnb = GaussianNB()\n",
    "    gnb.fit(xi_train, x0_train)\n",
    "    y_pred = gnb.predict(xi_test)\n",
    "    return np.sum((x0_test == y_pred))/len(x0_test) "
   ]
  },
  {
   "cell_type": "markdown",
   "id": "77571af3-c188-4b1c-be33-2743fab96aea",
   "metadata": {},
   "source": [
    "## Generate data"
   ]
  },
  {
   "cell_type": "code",
   "execution_count": 3,
   "id": "736c6f4d-e07c-4af1-a050-970e917876c8",
   "metadata": {
    "tags": []
   },
   "outputs": [
    {
     "name": "stdout",
     "output_type": "stream",
     "text": [
      "Naives Bayes accuracy: 0.64, trained on 500 and tested on 9500 trees.\n"
     ]
    }
   ],
   "source": [
    "# Data that will be used\n",
    "q = 4\n",
    "l = 4\n",
    "sigma = 1.0\n",
    "epsilon = 0.0\n",
    "seed = 31\n",
    "\n",
    "N_learn = 500\n",
    "\n",
    "[q,l,sigma,epsilon,x0s,xis,M_s] = np.load('../data/labeled_data_{}_{}_{}_{:.5f}.npy'.format(q,l,sigma,epsilon),allow_pickle=True)\n",
    "x0 = x0s[:,seed]\n",
    "xi = xis[:,:,seed]\n",
    "train_frac = N_learn/len(x0)\n",
    "phi_NB = get_NB_accuracy(x0,xi,train_frac)\n",
    "print('Naives Bayes accuracy: {:.2f}, trained on {} and tested on {} trees.'.format(phi_NB,int(train_frac*len(x0)),int((1-train_frac)*len(x0))))"
   ]
  },
  {
   "cell_type": "markdown",
   "id": "ded374f6-ec33-4514-9903-667ecfe1495f",
   "metadata": {},
   "source": [
    "## Data preprocessing"
   ]
  },
  {
   "cell_type": "code",
   "execution_count": null,
   "id": "93cf8b51-d1b8-4a53-88c6-a20872d56fde",
   "metadata": {
    "tags": []
   },
   "outputs": [],
   "source": [
    "# convert data to be used in pytorch\n",
    "x_train = torch.from_numpy(xi[:,:N_learn].T).to(device=device).int()\n",
    "x_test = torch.from_numpy(xi[:,N_learn:].T).to(device=device).int()\n",
    "\n",
    "# Target labels WITHOUT one-hot encoding.\n",
    "# y_train = torch.from_numpy(x0[:N_learn]).to(device=device).to(dtype=torch.int64)\n",
    "# y_test = torch.from_numpy(x0[N_learn:]).to(device=device).to(dtype=torch.int64)\n",
    "\n",
    "# Target labels WITH one-hot encoding.\n",
    "y_train = nn.functional.one_hot(torch.from_numpy(x0[:N_learn]).to(dtype=torch.int64), num_classes=q).to(dtype=torch.float32).to(device=device)\n",
    "y_test = nn.functional.one_hot(torch.from_numpy(x0[N_learn:]).to(dtype=torch.int64), num_classes=q).to(dtype=torch.float32).to(device=device)"
   ]
  },
  {
   "cell_type": "markdown",
   "id": "789d4eeb-245e-4adf-8234-49093e7247e3",
   "metadata": {},
   "source": [
    "## Model training"
   ]
  },
  {
   "cell_type": "code",
   "execution_count": null,
   "id": "b09d4369-cd6c-43f3-99f8-323805a50972",
   "metadata": {},
   "outputs": [],
   "source": [
    "model = TransformerClassifier(\n",
    "    seq_len=16,\n",
    "    embedding_size=128,\n",
    "    n_tranformer_layers=1,\n",
    "    n_heads=1,\n",
    "    n_classes=4,\n",
    "    embedding_agg='mean'\n",
    ").to(device=device)\n",
    "\n",
    "n_params_model = sum(p.numel() for p in model.parameters())\n",
    "\n",
    "print(f'N params (model): {n_params_model}')\n",
    "\n",
    "model(x_train)"
   ]
  },
  {
   "cell_type": "code",
   "execution_count": null,
   "id": "e9283842-12c7-4e4e-a263-0a662a758e3d",
   "metadata": {
    "tags": []
   },
   "outputs": [],
   "source": [
    "# Number of epochs\n",
    "num_epochs = 200\n",
    "\n",
    "# Define the loss function and the optimizer\n",
    "loss_fn = nn.CrossEntropyLoss()\n",
    "# optimizer = torch.optim.Adam(model.parameters(),lr=1e-3)\n",
    "\n",
    "_, training_history = train_model(\n",
    "    model=model,\n",
    "    training_data=(x_train, y_train),\n",
    "    test_data=(x_test, y_test),\n",
    "    n_epochs=num_epochs,\n",
    "    loss_fn=loss_fn,\n",
    "    learning_rate=1e-3,\n",
    "    batch_size=32,\n",
    "    early_stopper=None\n",
    ")"
   ]
  },
  {
   "cell_type": "code",
   "execution_count": null,
   "id": "faa34316-fcaa-4f98-8139-f58cd8f336ca",
   "metadata": {},
   "outputs": [],
   "source": [
    "plot_training_history(\n",
    "    training_history,\n",
    "    baseline_accuracy={\n",
    "        'NB': phi_NB,\n",
    "        'Census': .5772\n",
    "    }\n",
    ")"
   ]
  },
  {
   "cell_type": "code",
   "execution_count": 5,
   "id": "744a0def-8fb2-46ed-b8f0-7ac08a2a463f",
   "metadata": {},
   "outputs": [
    {
     "data": {
      "text/plain": [
       "0.6428421052631579"
      ]
     },
     "execution_count": 5,
     "metadata": {},
     "output_type": "execute_result"
    }
   ],
   "source": [
    "phi_NB"
   ]
  }
 ],
 "metadata": {
  "kernelspec": {
   "display_name": "Python 3 (ipykernel)",
   "language": "python",
   "name": "python3"
  },
  "language_info": {
   "codemirror_mode": {
    "name": "ipython",
    "version": 3
   },
   "file_extension": ".py",
   "mimetype": "text/x-python",
   "name": "python",
   "nbconvert_exporter": "python",
   "pygments_lexer": "ipython3",
   "version": "3.10.13"
  }
 },
 "nbformat": 4,
 "nbformat_minor": 5
}
